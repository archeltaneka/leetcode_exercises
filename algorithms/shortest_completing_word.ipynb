{
 "cells": [
  {
   "cell_type": "code",
   "execution_count": 53,
   "metadata": {},
   "outputs": [],
   "source": [
    "import numpy as np\n",
    "class Solution:\n",
    "    def shortestCompletingWord(self, licensePlate, words) -> str:\n",
    "        d = {}\n",
    "        for c in licensePlate:\n",
    "            if c.lower() in 'abcdefghijklmnopqrstuvwxyz':\n",
    "                if c.lower() in d:\n",
    "                    d[c.lower()] += 1\n",
    "                else:\n",
    "                    d[c.lower()] = 1\n",
    "        shortest = np.inf\n",
    "        ans = ''\n",
    "        for w in words:\n",
    "            temp = dict(d)\n",
    "            for c in w:\n",
    "                if c in temp.keys():\n",
    "                    if temp[c] == 0:\n",
    "                        continue\n",
    "                    temp[c] -= 1\n",
    "            flag = True\n",
    "            for v in temp.values():\n",
    "                if v < 0:\n",
    "                    flag = False\n",
    "                    break\n",
    "            if flag and sum(temp.values()) == 0:\n",
    "                if shortest > len(w):\n",
    "                    shortest = len(w)\n",
    "                    ans = w\n",
    "        return ans"
   ]
  },
  {
   "cell_type": "code",
   "execution_count": 54,
   "metadata": {},
   "outputs": [
    {
     "name": "stdout",
     "output_type": "stream",
     "text": [
      "{'g': 1, 'r': 0, 'c': 1}\n",
      "{'g': 1, 'r': 0, 'c': 1}\n",
      "{'g': 1, 'r': 0, 'c': 1}\n",
      "{'g': 1, 'r': 1, 'c': 1}\n",
      "{'g': 0, 'r': 0, 'c': 0}\n",
      "{'g': 1, 'r': 1, 'c': 1}\n",
      "{'g': 0, 'r': 1, 'c': 1}\n",
      "{'g': 1, 'r': 1, 'c': 1}\n",
      "{'g': 0, 'r': 0, 'c': 1}\n",
      "{'g': 1, 'r': 0, 'c': 1}\n"
     ]
    },
    {
     "data": {
      "text/plain": [
       "'according'"
      ]
     },
     "execution_count": 54,
     "metadata": {},
     "output_type": "execute_result"
    }
   ],
   "source": [
    "solution = Solution()\n",
    "solution.shortestCompletingWord(licensePlate =  \"GrC8950\", words = [\"measure\",\"other\",\"every\",\"base\",\"according\",\"level\",\"meeting\",\"none\",\"marriage\",\"rest\"])"
   ]
  },
  {
   "cell_type": "code",
   "execution_count": null,
   "metadata": {},
   "outputs": [],
   "source": []
  }
 ],
 "metadata": {
  "interpreter": {
   "hash": "318358cca711dfbc264410b226aa7c628b8407a12b94d28436652763d1fa5a27"
  },
  "kernelspec": {
   "display_name": "Python 3.8.3 64-bit ('base': conda)",
   "language": "python",
   "name": "python3"
  },
  "language_info": {
   "codemirror_mode": {
    "name": "ipython",
    "version": 3
   },
   "file_extension": ".py",
   "mimetype": "text/x-python",
   "name": "python",
   "nbconvert_exporter": "python",
   "pygments_lexer": "ipython3",
   "version": "3.8.3"
  },
  "orig_nbformat": 4
 },
 "nbformat": 4,
 "nbformat_minor": 2
}
