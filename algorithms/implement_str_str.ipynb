{
 "cells": [
  {
   "cell_type": "code",
   "execution_count": 10,
   "source": [
    "class Solution:\r\n",
    "    def strStr(self, haystack: str, needle: str) -> int:\r\n",
    "        if len(needle) == 0:\r\n",
    "            return 0\r\n",
    "        return haystack.find(needle)\r\n"
   ],
   "outputs": [],
   "metadata": {}
  },
  {
   "cell_type": "code",
   "execution_count": 13,
   "source": [
    "solution = Solution()\r\n",
    "haystack = 'qwertyuiop'\r\n",
    "needle = 'tyu'\r\n",
    "solution.strStr(haystack, needle)"
   ],
   "outputs": [
    {
     "output_type": "execute_result",
     "data": {
      "text/plain": [
       "4"
      ]
     },
     "metadata": {},
     "execution_count": 13
    }
   ],
   "metadata": {}
  },
  {
   "cell_type": "code",
   "execution_count": null,
   "source": [],
   "outputs": [],
   "metadata": {}
  }
 ],
 "metadata": {
  "orig_nbformat": 4,
  "language_info": {
   "name": "python",
   "version": "3.8.3",
   "mimetype": "text/x-python",
   "codemirror_mode": {
    "name": "ipython",
    "version": 3
   },
   "pygments_lexer": "ipython3",
   "nbconvert_exporter": "python",
   "file_extension": ".py"
  },
  "kernelspec": {
   "name": "python3",
   "display_name": "Python 3.8.3 64-bit ('base': conda)"
  },
  "interpreter": {
   "hash": "318358cca711dfbc264410b226aa7c628b8407a12b94d28436652763d1fa5a27"
  }
 },
 "nbformat": 4,
 "nbformat_minor": 2
}