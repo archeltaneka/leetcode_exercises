{
 "cells": [
  {
   "cell_type": "code",
   "execution_count": 17,
   "metadata": {},
   "outputs": [],
   "source": [
    "class Solution:\n",
    "    def findWords(self, words):\n",
    "        ans = []\n",
    "        first = \"qwertyuiop\"\n",
    "        second = \"asdfghjkl\"\n",
    "        third = \"zxcvbnm\"\n",
    "        for w in words:\n",
    "            first_flag, second_flag, third_flag = False, False, False\n",
    "            for c in w:\n",
    "                if c in first:\n",
    "                    first_flag = True\n",
    "                elif c in second:\n",
    "                    second_flag = True\n",
    "                elif c in third:\n",
    "                    third_flag = True\n",
    "            if (not first_flag and not second_flag) or (not second_flag and not third_flag) or (not first_flag and not third_flag):\n",
    "                ans.append(w)\n",
    "\n",
    "        return ans"
   ]
  },
  {
   "cell_type": "code",
   "execution_count": 18,
   "metadata": {},
   "outputs": [
    {
     "data": {
      "text/plain": [
       "['adsdf', 'sfd']"
      ]
     },
     "execution_count": 18,
     "metadata": {},
     "output_type": "execute_result"
    }
   ],
   "source": [
    "solution = Solution()\n",
    "solution.findWords([\"adsdf\",\"sfd\"])"
   ]
  },
  {
   "cell_type": "code",
   "execution_count": null,
   "metadata": {},
   "outputs": [],
   "source": []
  }
 ],
 "metadata": {
  "interpreter": {
   "hash": "318358cca711dfbc264410b226aa7c628b8407a12b94d28436652763d1fa5a27"
  },
  "kernelspec": {
   "display_name": "Python 3.8.3 64-bit ('base': conda)",
   "name": "python3"
  },
  "language_info": {
   "codemirror_mode": {
    "name": "ipython",
    "version": 3
   },
   "file_extension": ".py",
   "mimetype": "text/x-python",
   "name": "python",
   "nbconvert_exporter": "python",
   "pygments_lexer": "ipython3",
   "version": "3.8.3"
  },
  "orig_nbformat": 4
 },
 "nbformat": 4,
 "nbformat_minor": 2
}
