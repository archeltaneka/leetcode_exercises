{
 "cells": [
  {
   "cell_type": "code",
   "execution_count": null,
   "metadata": {},
   "outputs": [],
   "source": [
    "# Definition for a binary tree node.\n",
    "# class TreeNode:\n",
    "#     def __init__(self, val=0, left=None, right=None):\n",
    "#         self.val = val\n",
    "#         self.left = left\n",
    "#         self.right = right\n",
    "class Solution:\n",
    "    def sumOfLeftLeaves(self, root: Optional[TreeNode]) -> int:\n",
    "        return self.left_sum(root, False)\n",
    "        \n",
    "    def left_sum(self, root, is_left):\n",
    "        if not root:\n",
    "            return 0\n",
    "        elif root.left == None and root.right == None:\n",
    "            if is_left:\n",
    "                return root.val\n",
    "            else:\n",
    "                return 0\n",
    "        else:\n",
    "            return self.left_sum(root.left, True) + self.left_sum(root.right, False)\n",
    "        \n",
    "        \n",
    "       \n",
    "            "
   ]
  }
 ],
 "metadata": {
  "language_info": {
   "name": "python"
  },
  "orig_nbformat": 4
 },
 "nbformat": 4,
 "nbformat_minor": 2
}
