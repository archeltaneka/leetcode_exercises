{
 "cells": [
  {
   "cell_type": "code",
   "execution_count": 29,
   "metadata": {},
   "outputs": [],
   "source": [
    "class Solution:\n",
    "    def selfDividingNumbers(self, left: int, right: int):\n",
    "        ans = []\n",
    "        for i in range(left, right+1):\n",
    "            temp = str(i)\n",
    "            flag = True\n",
    "            if '0' in temp:\n",
    "                continue\n",
    "            for digit in temp:\n",
    "                if i % int(digit) != 0:\n",
    "                    flag = False\n",
    "                    break\n",
    "                else:\n",
    "                    flag = True\n",
    "            if flag:\n",
    "                ans.append(i)\n",
    "        return ans"
   ]
  },
  {
   "cell_type": "code",
   "execution_count": 30,
   "metadata": {},
   "outputs": [
    {
     "data": {
      "text/plain": [
       "[66,\n",
       " 77,\n",
       " 88,\n",
       " 99,\n",
       " 111,\n",
       " 112,\n",
       " 115,\n",
       " 122,\n",
       " 124,\n",
       " 126,\n",
       " 128,\n",
       " 132,\n",
       " 135,\n",
       " 144,\n",
       " 155,\n",
       " 162,\n",
       " 168,\n",
       " 175,\n",
       " 184,\n",
       " 212,\n",
       " 216,\n",
       " 222,\n",
       " 224,\n",
       " 244,\n",
       " 248,\n",
       " 264,\n",
       " 288,\n",
       " 312,\n",
       " 315,\n",
       " 324,\n",
       " 333,\n",
       " 336,\n",
       " 366,\n",
       " 384,\n",
       " 396,\n",
       " 412,\n",
       " 424,\n",
       " 432,\n",
       " 444,\n",
       " 448,\n",
       " 488,\n",
       " 515,\n",
       " 555,\n",
       " 612,\n",
       " 624,\n",
       " 636,\n",
       " 648,\n",
       " 666,\n",
       " 672]"
      ]
     },
     "execution_count": 30,
     "metadata": {},
     "output_type": "execute_result"
    }
   ],
   "source": [
    "solution = Solution()\n",
    "solution.selfDividingNumbers(66, 708)"
   ]
  },
  {
   "cell_type": "code",
   "execution_count": null,
   "metadata": {},
   "outputs": [],
   "source": []
  }
 ],
 "metadata": {
  "interpreter": {
   "hash": "318358cca711dfbc264410b226aa7c628b8407a12b94d28436652763d1fa5a27"
  },
  "kernelspec": {
   "display_name": "Python 3.8.3 64-bit ('base': conda)",
   "language": "python",
   "name": "python3"
  },
  "language_info": {
   "codemirror_mode": {
    "name": "ipython",
    "version": 3
   },
   "file_extension": ".py",
   "mimetype": "text/x-python",
   "name": "python",
   "nbconvert_exporter": "python",
   "pygments_lexer": "ipython3",
   "version": "3.8.3"
  },
  "orig_nbformat": 4
 },
 "nbformat": 4,
 "nbformat_minor": 2
}
