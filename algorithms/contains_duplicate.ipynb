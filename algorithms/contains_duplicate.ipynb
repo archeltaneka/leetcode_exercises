{
 "cells": [
  {
   "cell_type": "code",
   "execution_count": 4,
   "metadata": {},
   "outputs": [],
   "source": [
    "class Solution:\n",
    "    \"\"\"\n",
    "    Hash-map Solution\n",
    "    \"\"\"\n",
    "    def containsDuplicate(self, nums) -> bool:\n",
    "        counter = {}\n",
    "        for n in nums:  \n",
    "            if n not in counter:\n",
    "                counter[n] = 1\n",
    "            else:\n",
    "                counter[n] += 1\n",
    "        \n",
    "        for k, v in counter.items():\n",
    "            if v > 1:\n",
    "                return True\n",
    "        return False"
   ]
  },
  {
   "cell_type": "code",
   "execution_count": 22,
   "metadata": {},
   "outputs": [],
   "source": [
    "class Solution:\n",
    "    \"\"\"\n",
    "    With sorting\n",
    "    \"\"\"\n",
    "    def containsDuplicate(self, nums) -> bool:\n",
    "        sorted_nums = sorted(nums)\n",
    "        temp = sorted_nums[0]\n",
    "        for i in range(1, len(sorted_nums)):\n",
    "            if temp == sorted_nums[i]:\n",
    "                return True\n",
    "            temp = sorted_nums[i]\n",
    "        return False"
   ]
  },
  {
   "cell_type": "code",
   "execution_count": 25,
   "metadata": {},
   "outputs": [
    {
     "data": {
      "text/plain": [
       "True"
      ]
     },
     "execution_count": 25,
     "metadata": {},
     "output_type": "execute_result"
    }
   ],
   "source": [
    "solution = Solution()\n",
    "solution.containsDuplicate([1,1,1,3,3,4,3,2,4,2])"
   ]
  },
  {
   "cell_type": "code",
   "execution_count": null,
   "metadata": {},
   "outputs": [],
   "source": []
  }
 ],
 "metadata": {
  "interpreter": {
   "hash": "318358cca711dfbc264410b226aa7c628b8407a12b94d28436652763d1fa5a27"
  },
  "kernelspec": {
   "display_name": "Python 3.8.3 64-bit ('base': conda)",
   "name": "python3"
  },
  "language_info": {
   "codemirror_mode": {
    "name": "ipython",
    "version": 3
   },
   "file_extension": ".py",
   "mimetype": "text/x-python",
   "name": "python",
   "nbconvert_exporter": "python",
   "pygments_lexer": "ipython3",
   "version": "3.8.3"
  },
  "orig_nbformat": 4
 },
 "nbformat": 4,
 "nbformat_minor": 2
}
