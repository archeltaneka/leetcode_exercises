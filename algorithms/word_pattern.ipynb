{
 "cells": [
  {
   "cell_type": "code",
   "execution_count": 133,
   "metadata": {},
   "outputs": [],
   "source": [
    "class Solution:\n",
    "    def wordPattern(self, pattern: str, s: str) -> bool:\n",
    "        mapping = {}\n",
    "        s_split = s.split()\n",
    "        temp = ''\n",
    "        idx = 0\n",
    "        if len(pattern) != len(s_split):\n",
    "            return False\n",
    "        for word in s_split:\n",
    "            if word in mapping:\n",
    "                temp += mapping[word]\n",
    "                idx += 1\n",
    "            else:\n",
    "                if pattern[idx] not in mapping.values():\n",
    "                    mapping[word] = pattern[idx]\n",
    "                    temp += mapping[word]\n",
    "                    idx += 1\n",
    "                else:\n",
    "                    return False\n",
    "\n",
    "        return temp == pattern"
   ]
  },
  {
   "cell_type": "code",
   "execution_count": 135,
   "metadata": {},
   "outputs": [
    {
     "data": {
      "text/plain": [
       "True"
      ]
     },
     "execution_count": 135,
     "metadata": {},
     "output_type": "execute_result"
    }
   ],
   "source": [
    "solution = Solution()\n",
    "solution.wordPattern('abba', 'dog cat cat dog')"
   ]
  },
  {
   "cell_type": "code",
   "execution_count": null,
   "metadata": {},
   "outputs": [],
   "source": []
  }
 ],
 "metadata": {
  "interpreter": {
   "hash": "318358cca711dfbc264410b226aa7c628b8407a12b94d28436652763d1fa5a27"
  },
  "kernelspec": {
   "display_name": "Python 3.8.3 64-bit ('base': conda)",
   "name": "python3"
  },
  "language_info": {
   "codemirror_mode": {
    "name": "ipython",
    "version": 3
   },
   "file_extension": ".py",
   "mimetype": "text/x-python",
   "name": "python",
   "nbconvert_exporter": "python",
   "pygments_lexer": "ipython3",
   "version": "3.8.3"
  },
  "orig_nbformat": 4
 },
 "nbformat": 4,
 "nbformat_minor": 2
}
