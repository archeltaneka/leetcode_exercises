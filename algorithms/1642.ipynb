{
 "cells": [
  {
   "cell_type": "code",
   "execution_count": 31,
   "metadata": {},
   "outputs": [],
   "source": [
    "import heapq\n",
    "\n",
    "class Solution:\n",
    "    def furthestBuilding(self, heights, bricks: int, ladders: int) -> int:\n",
    "        min_heap = []\n",
    "        for i in range(len(heights)-1):\n",
    "            if heights[i+1] - heights[i] > 0:\n",
    "                heapq.heappush(min_heap, heights[i+1] - heights[i])\n",
    "            else:\n",
    "                continue\n",
    "            if len(min_heap) > ladders:\n",
    "                bricks -= heapq.heappop(min_heap)\n",
    "            if bricks < 0:\n",
    "                return i\n",
    "        return len(heights)-1\n",
    "                   "
   ]
  },
  {
   "cell_type": "code",
   "execution_count": 32,
   "metadata": {},
   "outputs": [
    {
     "name": "stdout",
     "output_type": "stream",
     "text": [
      "[4]\n",
      "[1, 4]\n",
      "[1, 4]\n",
      "[1, 4]\n",
      "[4, 9996]\n"
     ]
    },
    {
     "data": {
      "text/plain": [
       "5"
      ]
     },
     "execution_count": 32,
     "metadata": {},
     "output_type": "execute_result"
    }
   ],
   "source": [
    "solution = Solution()\n",
    "solution.furthestBuilding(heights = [1,5,1,2,3,4,10000], bricks = 5, ladders = 1)"
   ]
  },
  {
   "cell_type": "code",
   "execution_count": 22,
   "metadata": {},
   "outputs": [],
   "source": []
  },
  {
   "cell_type": "code",
   "execution_count": null,
   "metadata": {},
   "outputs": [],
   "source": []
  }
 ],
 "metadata": {
  "kernelspec": {
   "display_name": "Python 3.8.3 ('base')",
   "language": "python",
   "name": "python3"
  },
  "language_info": {
   "codemirror_mode": {
    "name": "ipython",
    "version": 3
   },
   "file_extension": ".py",
   "mimetype": "text/x-python",
   "name": "python",
   "nbconvert_exporter": "python",
   "pygments_lexer": "ipython3",
   "version": "3.8.3"
  },
  "orig_nbformat": 4,
  "vscode": {
   "interpreter": {
    "hash": "b32f2d5f2a3c38ee464616ac4e325aaef4a1aca8e19a98f9b99c9f54fc2d68b1"
   }
  }
 },
 "nbformat": 4,
 "nbformat_minor": 2
}
