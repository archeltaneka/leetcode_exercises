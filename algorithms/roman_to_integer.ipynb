{
 "cells": [
  {
   "cell_type": "code",
   "execution_count": 33,
   "source": [
    "class Solution:\r\n",
    "    def romanToInt(self, s: str) -> int:\r\n",
    "        symbol_value = {'I': 1, 'V': 5, 'X': 10, 'L': 50, 'C': 100, 'D': 500, 'M': 1000,\r\n",
    "                        'IV': 4, 'IX': 9, 'XL': 40, 'XC': 90, 'CD': 400, 'CM': 900}\r\n",
    "        combi = ['IV', 'IX', 'XL', 'XC', 'CD', 'CM']\r\n",
    "        value = 0\r\n",
    "        temp = s\r\n",
    "        \r\n",
    "        for c in combi:\r\n",
    "            if c in temp:\r\n",
    "                temp = temp.replace(c, '')\r\n",
    "                value += symbol_value[c]\r\n",
    "        for roman in temp:\r\n",
    "            value += symbol_value[roman]\r\n",
    "\r\n",
    "        return value"
   ],
   "outputs": [],
   "metadata": {}
  },
  {
   "cell_type": "code",
   "execution_count": 34,
   "source": [
    "solution = Solution()\r\n",
    "solution.romanToInt('MCMXCIV')"
   ],
   "outputs": [
    {
     "output_type": "execute_result",
     "data": {
      "text/plain": [
       "1994"
      ]
     },
     "metadata": {},
     "execution_count": 34
    }
   ],
   "metadata": {}
  },
  {
   "cell_type": "code",
   "execution_count": null,
   "source": [],
   "outputs": [],
   "metadata": {}
  }
 ],
 "metadata": {
  "orig_nbformat": 4,
  "language_info": {
   "name": "python",
   "version": "3.8.3",
   "mimetype": "text/x-python",
   "codemirror_mode": {
    "name": "ipython",
    "version": 3
   },
   "pygments_lexer": "ipython3",
   "nbconvert_exporter": "python",
   "file_extension": ".py"
  },
  "kernelspec": {
   "name": "python3",
   "display_name": "Python 3.8.3 64-bit ('base': conda)"
  },
  "interpreter": {
   "hash": "318358cca711dfbc264410b226aa7c628b8407a12b94d28436652763d1fa5a27"
  }
 },
 "nbformat": 4,
 "nbformat_minor": 2
}