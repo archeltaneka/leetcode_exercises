{
 "cells": [
  {
   "cell_type": "code",
   "execution_count": 173,
   "metadata": {},
   "outputs": [],
   "source": [
    "class Solution:\n",
    "    def distributeCandies(self, candies: int, num_people: int):\n",
    "        d = [0] * (num_people)\n",
    "        bonus = [0] * (num_people)\n",
    "        while candies > 0:\n",
    "            for i in range(len(d)):\n",
    "                if candies - (i+1+bonus[i]) < i+1+bonus[i] and candies - (i+1+bonus[i]) <= 0:\n",
    "                    d[i] += candies\n",
    "                    candies = 0\n",
    "                    break\n",
    "                elif candies - (i+1+bonus[i]) < i+1+bonus[i] and candies - (i+1+bonus[i]) > 0:\n",
    "                    d[i] += i+1+bonus[i]\n",
    "                    candies -= (i+1+bonus[i])\n",
    "                else:\n",
    "                    d[i] += i+1+bonus[i]\n",
    "                    candies -= i+1+bonus[i]\n",
    "                bonus[i] += num_people\n",
    "        return d"
   ]
  },
  {
   "cell_type": "code",
   "execution_count": 174,
   "metadata": {},
   "outputs": [
    {
     "data": {
      "text/plain": [
       "[15, 18, 15, 12]"
      ]
     },
     "execution_count": 174,
     "metadata": {},
     "output_type": "execute_result"
    }
   ],
   "source": [
    "solution = Solution()\n",
    "solution.distributeCandies(candies = 60, num_people = 4)"
   ]
  },
  {
   "cell_type": "code",
   "execution_count": null,
   "metadata": {},
   "outputs": [],
   "source": []
  }
 ],
 "metadata": {
  "interpreter": {
   "hash": "318358cca711dfbc264410b226aa7c628b8407a12b94d28436652763d1fa5a27"
  },
  "kernelspec": {
   "display_name": "Python 3.8.3 64-bit ('base': conda)",
   "language": "python",
   "name": "python3"
  },
  "language_info": {
   "codemirror_mode": {
    "name": "ipython",
    "version": 3
   },
   "file_extension": ".py",
   "mimetype": "text/x-python",
   "name": "python",
   "nbconvert_exporter": "python",
   "pygments_lexer": "ipython3",
   "version": "3.8.3"
  },
  "orig_nbformat": 4
 },
 "nbformat": 4,
 "nbformat_minor": 2
}
