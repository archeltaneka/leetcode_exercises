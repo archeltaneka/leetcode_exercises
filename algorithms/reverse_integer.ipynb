{
 "cells": [
  {
   "cell_type": "code",
   "execution_count": 10,
   "source": [
    "class Solution:\r\n",
    "    def reverse(self, x: int) -> int:\r\n",
    "        ans = 0\r\n",
    "        temp = x\r\n",
    "        \r\n",
    "        if temp < 0:\r\n",
    "            x = x * -1\r\n",
    "        while(x > 0):\r\n",
    "            remainder = x % 10\r\n",
    "            ans = (ans*10) + remainder\r\n",
    "            x = x // 10\r\n",
    "        \r\n",
    "        if ans > (2**31 - 1) or ans < -(2**31):\r\n",
    "            return 0\r\n",
    "        if temp < 0:\r\n",
    "            return ans * -1\r\n",
    "        elif temp >= 0:\r\n",
    "            return ans"
   ],
   "outputs": [],
   "metadata": {}
  },
  {
   "cell_type": "code",
   "execution_count": 11,
   "source": [
    "solution = Solution()\r\n",
    "solution.reverse(123)"
   ],
   "outputs": [
    {
     "output_type": "stream",
     "name": "stdout",
     "text": [
      "3\n",
      "3\n",
      "12\n",
      "2\n",
      "32\n",
      "1\n",
      "1\n",
      "321\n",
      "0\n"
     ]
    },
    {
     "output_type": "execute_result",
     "data": {
      "text/plain": [
       "321"
      ]
     },
     "metadata": {},
     "execution_count": 11
    }
   ],
   "metadata": {}
  },
  {
   "cell_type": "code",
   "execution_count": null,
   "source": [],
   "outputs": [],
   "metadata": {}
  }
 ],
 "metadata": {
  "orig_nbformat": 4,
  "language_info": {
   "name": "python",
   "version": "3.8.3",
   "mimetype": "text/x-python",
   "codemirror_mode": {
    "name": "ipython",
    "version": 3
   },
   "pygments_lexer": "ipython3",
   "nbconvert_exporter": "python",
   "file_extension": ".py"
  },
  "kernelspec": {
   "name": "python3",
   "display_name": "Python 3.8.3 64-bit ('base': conda)"
  },
  "interpreter": {
   "hash": "318358cca711dfbc264410b226aa7c628b8407a12b94d28436652763d1fa5a27"
  }
 },
 "nbformat": 4,
 "nbformat_minor": 2
}