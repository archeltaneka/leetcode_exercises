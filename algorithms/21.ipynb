{
 "cells": [
  {
   "cell_type": "code",
   "execution_count": null,
   "metadata": {},
   "outputs": [],
   "source": [
    "# Definition for singly-linked list.\n",
    "# class ListNode:\n",
    "#     def __init__(self, val=0, next=None):\n",
    "#         self.val = val\n",
    "#         self.next = next\n",
    "class Solution:\n",
    "    def mergeTwoLists(self, list1: Optional[ListNode], list2: Optional[ListNode]) -> Optional[ListNode]:\n",
    "        if not list1 and not list2:\n",
    "            return None\n",
    "        if not list1:\n",
    "            return list2\n",
    "        if not list2:\n",
    "            return list1\n",
    "        \n",
    "        head = None\n",
    "        if list1.val <= list2.val:\n",
    "            head = list1\n",
    "            list1 = list1.next\n",
    "        else:\n",
    "            head = list2\n",
    "            list2 = list2.next\n",
    "        \n",
    "        temp = head\n",
    "        while list1 != None and list2 != None:\n",
    "            if list1.val <= list2.val:\n",
    "                temp.next = list1\n",
    "                list1 = list1.next\n",
    "            else:\n",
    "                temp.next = list2\n",
    "                list2 = list2.next\n",
    "            temp = temp.next\n",
    "        if not list1:\n",
    "            temp.next = list2\n",
    "        elif not list2:\n",
    "            temp.next = list1\n",
    "        return head"
   ]
  }
 ],
 "metadata": {
  "language_info": {
   "name": "python"
  },
  "orig_nbformat": 4
 },
 "nbformat": 4,
 "nbformat_minor": 2
}
