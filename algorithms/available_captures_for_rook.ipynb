{
 "cells": [
  {
   "cell_type": "code",
   "execution_count": 50,
   "metadata": {},
   "outputs": [],
   "source": [
    "class Solution:\n",
    "    def numRookCaptures(self, board) -> int:\n",
    "        pawn = 0\n",
    "        pos = [0,0]\n",
    "        for y in range(len(board)):\n",
    "            for x in range(len(board[y])):\n",
    "                if board[y][x] == 'R':\n",
    "                    pos[0] = x\n",
    "                    pos[1] = y\n",
    "        x_pos, x_neg = pos[0], pos[0]\n",
    "        y_pos, y_neg = pos[1], pos[1]\n",
    "        # right side rook\n",
    "        while x_pos < len(board)-1:\n",
    "            x_pos += 1\n",
    "            if board[pos[1]][x_pos] == 'B':\n",
    "                break\n",
    "            if board[pos[1]][x_pos] == 'p':\n",
    "                pawn += 1\n",
    "                break\n",
    "        # left side rook\n",
    "        while x_neg > 0:\n",
    "            x_neg -= 1  \n",
    "            if board[pos[1]][x_neg] == 'B':\n",
    "                break\n",
    "            if board[pos[1]][x_neg] == 'p':\n",
    "                pawn += 1\n",
    "                break\n",
    "        # top side rook\n",
    "        while y_pos < len(board)-1:\n",
    "            y_pos += 1\n",
    "            if board[y_pos][pos[0]] == 'B':\n",
    "                break\n",
    "            if board[y_pos][pos[0]] == 'p':\n",
    "                pawn += 1\n",
    "                break\n",
    "        # bottom side rook\n",
    "        while y_neg > 0:\n",
    "            y_neg -= 1\n",
    "            if board[y_neg][pos[0]] == 'B':\n",
    "                break\n",
    "            if board[y_neg][pos[0]] == 'p':\n",
    "                pawn += 1\n",
    "                break\n",
    "        return pawn\n"
   ]
  },
  {
   "cell_type": "code",
   "execution_count": 51,
   "metadata": {},
   "outputs": [
    {
     "name": "stdout",
     "output_type": "stream",
     "text": [
      "atas\n",
      "bawah\n",
      "kiri\n"
     ]
    },
    {
     "data": {
      "text/plain": [
       "3"
      ]
     },
     "execution_count": 51,
     "metadata": {},
     "output_type": "execute_result"
    }
   ],
   "source": [
    "solution = Solution()\n",
    "solution.numRookCaptures([[\".\",\".\",\".\",\".\",\".\",\".\",\".\",\".\"],[\".\",\".\",\".\",\"p\",\".\",\".\",\".\",\".\"],[\".\",\".\",\".\",\"p\",\".\",\".\",\".\",\".\"],[\"p\",\"p\",\".\",\"R\",\".\",\"p\",\"B\",\".\"],[\".\",\".\",\".\",\".\",\".\",\".\",\".\",\".\"],[\".\",\".\",\".\",\"B\",\".\",\".\",\".\",\".\"],[\".\",\".\",\".\",\"p\",\".\",\".\",\".\",\".\"],[\".\",\".\",\".\",\".\",\".\",\".\",\".\",\".\"]])"
   ]
  },
  {
   "cell_type": "code",
   "execution_count": null,
   "metadata": {},
   "outputs": [],
   "source": []
  }
 ],
 "metadata": {
  "interpreter": {
   "hash": "318358cca711dfbc264410b226aa7c628b8407a12b94d28436652763d1fa5a27"
  },
  "kernelspec": {
   "display_name": "Python 3.8.3 64-bit ('base': conda)",
   "language": "python",
   "name": "python3"
  },
  "language_info": {
   "codemirror_mode": {
    "name": "ipython",
    "version": 3
   },
   "file_extension": ".py",
   "mimetype": "text/x-python",
   "name": "python",
   "nbconvert_exporter": "python",
   "pygments_lexer": "ipython3",
   "version": "3.8.3"
  },
  "orig_nbformat": 4
 },
 "nbformat": 4,
 "nbformat_minor": 2
}
