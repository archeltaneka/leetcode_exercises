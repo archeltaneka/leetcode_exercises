{
 "cells": [
  {
   "cell_type": "code",
   "execution_count": 5,
   "source": [
    "class Solution:\r\n",
    "    def longestCommonPrefix(self, strs) -> str:\r\n",
    "        prefix_count = {}\r\n",
    "        largest = 1\r\n",
    "        ans = ''\r\n",
    "\r\n",
    "        if len(strs) == 1:\r\n",
    "            return strs[0]\r\n",
    "\r\n",
    "        longest_str = []\r\n",
    "        longest = 0\r\n",
    "        for s in strs:\r\n",
    "            if len(s) > longest:\r\n",
    "                longest_str.append(s)\r\n",
    "        print(longest_str)\r\n",
    "        prefix = ''\r\n",
    "        for c in longest:\r\n",
    "            prefix += c\r\n",
    "            if prefix not in prefix_count:\r\n",
    "                prefix_count[prefix] = 1\r\n",
    "            else:\r\n",
    "                prefix_count[prefix] += 1\r\n",
    "        \r\n",
    "        for k, v in sorted(prefix_count.items(), reverse=True):\r\n",
    "            if largest < v:\r\n",
    "                ans = k\r\n",
    "                largest = v\r\n",
    "                \r\n",
    "        return ans"
   ],
   "outputs": [],
   "metadata": {}
  },
  {
   "cell_type": "code",
   "execution_count": 6,
   "source": [
    "solution = Solution()\r\n",
    "solution.longestCommonPrefix([\"flower\",\"flow\",\"flight\"])"
   ],
   "outputs": [
    {
     "output_type": "stream",
     "name": "stdout",
     "text": [
      "['flower', 'flow', 'flight']\n"
     ]
    }
   ],
   "metadata": {}
  },
  {
   "cell_type": "code",
   "execution_count": null,
   "source": [],
   "outputs": [],
   "metadata": {}
  }
 ],
 "metadata": {
  "orig_nbformat": 4,
  "language_info": {
   "name": "python",
   "version": "3.8.3",
   "mimetype": "text/x-python",
   "codemirror_mode": {
    "name": "ipython",
    "version": 3
   },
   "pygments_lexer": "ipython3",
   "nbconvert_exporter": "python",
   "file_extension": ".py"
  },
  "kernelspec": {
   "name": "python3",
   "display_name": "Python 3.8.3 64-bit ('base': conda)"
  },
  "interpreter": {
   "hash": "318358cca711dfbc264410b226aa7c628b8407a12b94d28436652763d1fa5a27"
  }
 },
 "nbformat": 4,
 "nbformat_minor": 2
}