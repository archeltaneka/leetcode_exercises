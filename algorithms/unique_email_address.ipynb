{
 "cells": [
  {
   "cell_type": "code",
   "execution_count": 33,
   "source": [
    "import re\r\n",
    "\r\n",
    "class Solution:\r\n",
    "    def numUniqueEmails(self, emails) -> int:\r\n",
    "        valid_emails = []\r\n",
    "        for email in emails:\r\n",
    "            local = re.findall(r'.+@', email)[0][:-1]\r\n",
    "            local = local.replace('.', '')\r\n",
    "            plus =  re.findall(r'\\+.+', local)[0]\r\n",
    "            local = local.replace(plus, '')\r\n",
    "            domain = re.findall(r'@.+', email)[0][:-4]\r\n",
    "            \r\n",
    "            valid = local + domain + '.com'\r\n",
    "            if valid not in valid_emails:\r\n",
    "                valid_emails.append(valid)\r\n",
    "                \r\n",
    "        return len(valid_emails)\r\n",
    "                \r\n",
    "            "
   ],
   "outputs": [],
   "metadata": {}
  },
  {
   "cell_type": "code",
   "execution_count": 34,
   "source": [
    "solution = Solution()\r\n",
    "emails = [\"fg.r.u.uzj+o.pw@kziczvh.com\",\r\n",
    "\"r.cyo.g+d.h+b.ja@tgsg.z.com\",\r\n",
    "\"fg.r.u.uzj+o.f.d@kziczvh.com\",\r\n",
    "\"r.cyo.g+ng.r.iq@tgsg.z.com\",\r\n",
    "\"fg.r.u.uzj+lp.k@kziczvh.com\",\r\n",
    "\"r.cyo.g+n.h.e+n.g@tgsg.z.com\",\r\n",
    "\"fg.r.u.uzj+k+p.j@kziczvh.com\",\r\n",
    "\"fg.r.u.uzj+w.y+b@kziczvh.com\",\r\n",
    "\"r.cyo.g+x+d.c+f.t@tgsg.z.com\",\r\n",
    "\"r.cyo.g+x+t.y.l.i@tgsg.z.com\",\r\n",
    "\"r.cyo.g+brxxi@tgsg.z.com\",\r\n",
    "\"r.cyo.g+z+dr.k.u@tgsg.z.com\",\r\n",
    "\"r.cyo.g+d+l.c.n+g@tgsg.z.com\",\r\n",
    "\"fg.r.u.uzj+vq.o@kziczvh.com\",\r\n",
    "\"fg.r.u.uzj+uzq@kziczvh.com\",\r\n",
    "\"fg.r.u.uzj+mvz@kziczvh.com\",\r\n",
    "\"fg.r.u.uzj+taj@kziczvh.com\",\r\n",
    "\"fg.r.u.uzj+fek@kziczvh.com\"]\r\n",
    "solution.numUniqueEmails(emails)"
   ],
   "outputs": [
    {
     "output_type": "execute_result",
     "data": {
      "text/plain": [
       "2"
      ]
     },
     "metadata": {},
     "execution_count": 34
    }
   ],
   "metadata": {}
  },
  {
   "cell_type": "code",
   "execution_count": null,
   "source": [],
   "outputs": [],
   "metadata": {}
  }
 ],
 "metadata": {
  "orig_nbformat": 4,
  "language_info": {
   "name": "python",
   "version": "3.8.3",
   "mimetype": "text/x-python",
   "codemirror_mode": {
    "name": "ipython",
    "version": 3
   },
   "pygments_lexer": "ipython3",
   "nbconvert_exporter": "python",
   "file_extension": ".py"
  },
  "kernelspec": {
   "name": "python3",
   "display_name": "Python 3.8.3 64-bit ('base': conda)"
  },
  "interpreter": {
   "hash": "318358cca711dfbc264410b226aa7c628b8407a12b94d28436652763d1fa5a27"
  }
 },
 "nbformat": 4,
 "nbformat_minor": 2
}