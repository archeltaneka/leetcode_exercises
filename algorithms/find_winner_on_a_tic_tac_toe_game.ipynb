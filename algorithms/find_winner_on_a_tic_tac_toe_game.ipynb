{
 "cells": [
  {
   "cell_type": "code",
   "execution_count": 33,
   "metadata": {},
   "outputs": [],
   "source": [
    "class Solution:\n",
    "    def tictactoe(self, moves) -> str:\n",
    "        board = [[' '] * 3 for _ in range(3)]\n",
    "        for i in range(len(moves)):\n",
    "            if i % 2 != 0:\n",
    "                board[moves[i][0]][moves[i][1]] = 'O'\n",
    "            else:\n",
    "                board[moves[i][0]][moves[i][1]] = 'X'\n",
    "        i, j = 0, 0\n",
    "        player = {'X': 'A', 'O': 'B'}\n",
    "        flag = False\n",
    "        empty = 0\n",
    "        for i in range(len(board)):\n",
    "            for j in range(len(board[i])):\n",
    "                if board[i][j] != ' ':\n",
    "                    if i == 0 and j == 0:\n",
    "                        if board[i][j+1] == board[i][j] and board[i][j+2] == board[i][j]:\n",
    "                            flag = True\n",
    "                            winner = board[i][j]\n",
    "                        elif board[i+1][j+1] == board[i][j] and board[i+2][j+2] == board[i][j]:\n",
    "                            flag = True\n",
    "                            winner = board[i][j]\n",
    "                        elif board[i+1][j] == board[i][j] and board[i+2][j] == board[i][j]:\n",
    "                            flag = True\n",
    "                            winner = board[i][j]\n",
    "                    elif i == 0 and j == 1:\n",
    "                        if board[i+1][j] == board[i][j] and board[i+2][j] == board[i][j]:\n",
    "                            flag = True\n",
    "                            winner = board[i][j]\n",
    "                    elif i == 0 and j == 2:\n",
    "                        if board[i+1][j] == board[i][j] and board[i+2][j] == board[i][j]:\n",
    "                            flag = True\n",
    "                            winner = board[i][j]\n",
    "                        if board[i+1][j-1] == board[i][j] and board[i+2][j-2] == board[i][j]:\n",
    "                            flag = True\n",
    "                            winner = board[i][j]\n",
    "                    elif i > 0 and j == 0:\n",
    "                        if board[i][j+1] == board[i][j] and board[i][j+2] == board[i][j]:\n",
    "                            flag = True\n",
    "                            winner = board[i][j]\n",
    "                else:\n",
    "                    empty += 1\n",
    "        if not flag and empty > 0:\n",
    "            return 'Pending'\n",
    "        elif not flag and empty == 0:\n",
    "            return 'Draw'\n",
    "        else:\n",
    "            return player[winner]\n",
    "                    "
   ]
  },
  {
   "cell_type": "code",
   "execution_count": 35,
   "metadata": {},
   "outputs": [
    {
     "data": {
      "text/plain": [
       "'A'"
      ]
     },
     "execution_count": 35,
     "metadata": {},
     "output_type": "execute_result"
    }
   ],
   "source": [
    "solution = Solution()\n",
    "solution.tictactoe([[0,0],[2,0],[1,1],[2,1],[2,2]])"
   ]
  },
  {
   "cell_type": "code",
   "execution_count": null,
   "metadata": {},
   "outputs": [],
   "source": []
  }
 ],
 "metadata": {
  "interpreter": {
   "hash": "318358cca711dfbc264410b226aa7c628b8407a12b94d28436652763d1fa5a27"
  },
  "kernelspec": {
   "display_name": "Python 3.8.3 64-bit ('base': conda)",
   "language": "python",
   "name": "python3"
  },
  "language_info": {
   "codemirror_mode": {
    "name": "ipython",
    "version": 3
   },
   "file_extension": ".py",
   "mimetype": "text/x-python",
   "name": "python",
   "nbconvert_exporter": "python",
   "pygments_lexer": "ipython3",
   "version": "3.8.3"
  },
  "orig_nbformat": 4
 },
 "nbformat": 4,
 "nbformat_minor": 2
}
