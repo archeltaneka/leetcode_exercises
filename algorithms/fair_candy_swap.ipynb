{
 "cells": [
  {
   "cell_type": "code",
   "execution_count": 7,
   "metadata": {},
   "outputs": [],
   "source": [
    "class Solution:\n",
    "    \"\"\"\n",
    "    Ca - x + y = Cb + x - y\n",
    "    2y = Cb - Ca + 2x\n",
    "    y = (Cb - Ca + 2x) / 2\n",
    "    y = ((Cb-Ca) / 2) + x\n",
    "    \"\"\"\n",
    "    def fairCandySwap(self, aliceSizes, bobSizes):\n",
    "        s1 = sum(aliceSizes)\n",
    "        s2 = sum(bobSizes)\n",
    "        bob = set(bobSizes)\n",
    "        for c in aliceSizes:\n",
    "            if (s2-s1 + 2*c) // 2 in bob:\n",
    "                return [c, c + (s2 - s1) // 2]"
   ]
  },
  {
   "cell_type": "code",
   "execution_count": 8,
   "metadata": {},
   "outputs": [
    {
     "data": {
      "text/plain": [
       "[1, 2]"
      ]
     },
     "execution_count": 8,
     "metadata": {},
     "output_type": "execute_result"
    }
   ],
   "source": [
    "solution = Solution()\n",
    "solution.fairCandySwap(aliceSizes = [1,1], bobSizes = [2,2])"
   ]
  },
  {
   "cell_type": "code",
   "execution_count": null,
   "metadata": {},
   "outputs": [],
   "source": []
  }
 ],
 "metadata": {
  "interpreter": {
   "hash": "318358cca711dfbc264410b226aa7c628b8407a12b94d28436652763d1fa5a27"
  },
  "kernelspec": {
   "display_name": "Python 3.8.3 64-bit ('base': conda)",
   "language": "python",
   "name": "python3"
  },
  "language_info": {
   "codemirror_mode": {
    "name": "ipython",
    "version": 3
   },
   "file_extension": ".py",
   "mimetype": "text/x-python",
   "name": "python",
   "nbconvert_exporter": "python",
   "pygments_lexer": "ipython3",
   "version": "3.8.3"
  },
  "orig_nbformat": 4
 },
 "nbformat": 4,
 "nbformat_minor": 2
}
