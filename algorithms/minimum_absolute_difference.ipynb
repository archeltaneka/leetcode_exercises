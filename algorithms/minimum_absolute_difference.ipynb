{
 "cells": [
  {
   "cell_type": "code",
   "execution_count": 42,
   "metadata": {},
   "outputs": [],
   "source": [
    "class Solution:\n",
    "    def minimumAbsDifference(self, arr):\n",
    "        arr = sorted(arr)\n",
    "        min_diff = float('inf')\n",
    "        ans = []\n",
    "        for i in range(len(arr)-1):\n",
    "            if abs(arr[i]-arr[i+1]) < min_diff:\n",
    "                min_diff = abs(arr[i]-arr[i+1])\n",
    "        for i in range(len(arr)-1):\n",
    "            if abs(arr[i]-arr[i+1]) == min_diff:\n",
    "                ans.append([arr[i], arr[i+1]])\n",
    "        return ans"
   ]
  },
  {
   "cell_type": "code",
   "execution_count": 43,
   "metadata": {},
   "outputs": [
    {
     "data": {
      "text/plain": [
       "[[26, 27]]"
      ]
     },
     "execution_count": 43,
     "metadata": {},
     "output_type": "execute_result"
    }
   ],
   "source": [
    "solution = Solution()\n",
    "solution.minimumAbsDifference(arr = [40,11,26,27,-20])"
   ]
  },
  {
   "cell_type": "code",
   "execution_count": 44,
   "metadata": {},
   "outputs": [],
   "source": [
    "def counting_sort(arr):\n",
    "    count_arr = [0] * 10\n",
    "    for num in arr:\n",
    "        count_arr[num] += 1\n",
    "    for i in range(len(count_arr)-1):\n",
    "        count_arr[i+1] += count_arr[i]\n",
    "    output = [0] * len(arr)\n",
    "    i = len(arr) - 1\n",
    "    while i >= 0:\n",
    "        output[count_arr[arr[i]]-1] = arr[i]\n",
    "        count_arr[arr[i]] -= 1\n",
    "        i -= 1\n",
    "    for i in range(len(output)):\n",
    "        arr[i] = output[i]\n",
    "    print(arr)"
   ]
  },
  {
   "cell_type": "code",
   "execution_count": 45,
   "metadata": {},
   "outputs": [
    {
     "name": "stdout",
     "output_type": "stream",
     "text": [
      "[2, 3, 4, 8]\n"
     ]
    }
   ],
   "source": [
    "counting_sort([8, 3, 4, 2])"
   ]
  }
 ],
 "metadata": {
  "interpreter": {
   "hash": "318358cca711dfbc264410b226aa7c628b8407a12b94d28436652763d1fa5a27"
  },
  "kernelspec": {
   "display_name": "Python 3.8.3 64-bit ('base': conda)",
   "language": "python",
   "name": "python3"
  },
  "language_info": {
   "codemirror_mode": {
    "name": "ipython",
    "version": 3
   },
   "file_extension": ".py",
   "mimetype": "text/x-python",
   "name": "python",
   "nbconvert_exporter": "python",
   "pygments_lexer": "ipython3",
   "version": "3.8.3"
  },
  "orig_nbformat": 4
 },
 "nbformat": 4,
 "nbformat_minor": 2
}
