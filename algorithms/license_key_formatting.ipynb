{
 "cells": [
  {
   "cell_type": "code",
   "execution_count": 132,
   "metadata": {},
   "outputs": [],
   "source": [
    "class Solution:\n",
    "    def licenseKeyFormatting(self, s: str, k: int) -> str:\n",
    "        s = s.replace('-', '').upper()\n",
    "        ans = ''\n",
    "        if len(s) == 1:\n",
    "            return s\n",
    "        if len(s) % k == 0:\n",
    "            tmp = len(s) % k\n",
    "            while(tmp < len(s)):\n",
    "                ans += s[tmp:tmp+k]\n",
    "                tmp += k\n",
    "                if tmp < len(s):\n",
    "                    ans += '-'\n",
    "        else:\n",
    "            tmp = len(s) % k\n",
    "            ans += s[:tmp] + '-'\n",
    "            while(tmp < len(s)):\n",
    "                ans += s[tmp:tmp+k]\n",
    "                tmp += k\n",
    "                if tmp < len(s):\n",
    "                    ans += '-'\n",
    "\n",
    "        return ans\n"
   ]
  },
  {
   "cell_type": "code",
   "execution_count": 133,
   "metadata": {},
   "outputs": [
    {
     "data": {
      "text/plain": [
       "'2'"
      ]
     },
     "execution_count": 133,
     "metadata": {},
     "output_type": "execute_result"
    }
   ],
   "source": [
    "solution = Solution()\n",
    "solution.licenseKeyFormatting(\"2\", 2)"
   ]
  },
  {
   "cell_type": "code",
   "execution_count": null,
   "metadata": {},
   "outputs": [],
   "source": []
  }
 ],
 "metadata": {
  "interpreter": {
   "hash": "318358cca711dfbc264410b226aa7c628b8407a12b94d28436652763d1fa5a27"
  },
  "kernelspec": {
   "display_name": "Python 3.8.3 64-bit ('base': conda)",
   "language": "python",
   "name": "python3"
  },
  "language_info": {
   "codemirror_mode": {
    "name": "ipython",
    "version": 3
   },
   "file_extension": ".py",
   "mimetype": "text/x-python",
   "name": "python",
   "nbconvert_exporter": "python",
   "pygments_lexer": "ipython3",
   "version": "3.8.3"
  },
  "orig_nbformat": 4
 },
 "nbformat": 4,
 "nbformat_minor": 2
}
