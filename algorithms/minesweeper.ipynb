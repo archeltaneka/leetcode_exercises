{
 "cells": [
  {
   "cell_type": "code",
   "execution_count": 45,
   "metadata": {},
   "outputs": [],
   "source": [
    "class Solution:\n",
    "    def updateBoard(self, board, click):\n",
    "        if board[click[0]][click[1]] == 'M':\n",
    "            board[click[0]][click[1]] = 'X'\n",
    "            return board\n",
    "        stack = [click]\n",
    "        visited = set()\n",
    "        while stack:\n",
    "            r, c = stack.pop()\n",
    "            if (r,c) not in visited:\n",
    "                num_mines = 0\n",
    "                visited.add((r,c))\n",
    "                empty = []\n",
    "                for x,y in [(r+1,c), (r-1,c), (r,c+1), (r,c-1), (r+1,c+1), (r+1,c-1), (r-1,c+1), (r-1,c-1)]:\n",
    "                    if 0 <= x < len(board) and 0 <= y < len(board[0]) and board[x][y] == 'M':\n",
    "                        num_mines += 1\n",
    "                    elif 0 <= x < len(board) and 0 <= y < len(board[0]) and board[x][y] == 'E':\n",
    "                        empty.append((x,y))\n",
    "                if num_mines > 0:\n",
    "                    board[r][c] = str(num_mines)\n",
    "                else:\n",
    "                    board[r][c] = 'B'\n",
    "                    stack += empty\n",
    "        return board\n"
   ]
  },
  {
   "cell_type": "code",
   "execution_count": 46,
   "metadata": {},
   "outputs": [
    {
     "data": {
      "text/plain": [
       "[['B', '1', 'E', '1', 'B'],\n",
       " ['B', '1', 'M', '1', 'B'],\n",
       " ['B', '1', '1', '1', 'B'],\n",
       " ['B', 'B', 'B', 'B', 'B']]"
      ]
     },
     "execution_count": 46,
     "metadata": {},
     "output_type": "execute_result"
    }
   ],
   "source": [
    "solution = Solution()\n",
    "solution.updateBoard(board = [[\"E\",\"E\",\"E\",\"E\",\"E\"],[\"E\",\"E\",\"M\",\"E\",\"E\"],[\"E\",\"E\",\"E\",\"E\",\"E\"],[\"E\",\"E\",\"E\",\"E\",\"E\"]], click = [3,0])"
   ]
  },
  {
   "cell_type": "code",
   "execution_count": null,
   "metadata": {},
   "outputs": [],
   "source": []
  }
 ],
 "metadata": {
  "interpreter": {
   "hash": "318358cca711dfbc264410b226aa7c628b8407a12b94d28436652763d1fa5a27"
  },
  "kernelspec": {
   "display_name": "Python 3.8.3 64-bit ('base': conda)",
   "language": "python",
   "name": "python3"
  },
  "language_info": {
   "codemirror_mode": {
    "name": "ipython",
    "version": 3
   },
   "file_extension": ".py",
   "mimetype": "text/x-python",
   "name": "python",
   "nbconvert_exporter": "python",
   "pygments_lexer": "ipython3",
   "version": "3.8.3"
  },
  "orig_nbformat": 4
 },
 "nbformat": 4,
 "nbformat_minor": 2
}
