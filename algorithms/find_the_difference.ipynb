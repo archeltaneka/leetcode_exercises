{
 "cells": [
  {
   "cell_type": "code",
   "execution_count": 12,
   "metadata": {},
   "outputs": [],
   "source": [
    "class Solution:\n",
    "    \"\"\"\n",
    "    Using Hash-map\n",
    "    \"\"\"\n",
    "    def findTheDifference(self, s: str, t: str) -> str:\n",
    "        count_dict = {}\n",
    "        for c in s:\n",
    "            if c not in count_dict:\n",
    "                count_dict[c] = 1\n",
    "            else:\n",
    "                count_dict[c] += 1\n",
    "        for c in t:\n",
    "            if c not in count_dict:\n",
    "                count_dict[c] = 1\n",
    "            else:\n",
    "                count_dict[c] -= 1\n",
    "        for k, v in count_dict.items():\n",
    "            if v != 0:\n",
    "                return k"
   ]
  },
  {
   "cell_type": "code",
   "execution_count": 15,
   "metadata": {},
   "outputs": [
    {
     "data": {
      "text/plain": [
       "'e'"
      ]
     },
     "execution_count": 15,
     "metadata": {},
     "output_type": "execute_result"
    }
   ],
   "source": [
    "solution = Solution()\n",
    "solution.findTheDifference('abcd', 'abcde')"
   ]
  },
  {
   "cell_type": "code",
   "execution_count": 24,
   "metadata": {},
   "outputs": [],
   "source": [
    "class Solution:\n",
    "    \"\"\"\n",
    "    Using ascii count\n",
    "    \"\"\"\n",
    "    def findTheDifference(self, s: str, t: str) -> str:\n",
    "        ans = 0\n",
    "        for c in s:\n",
    "            ans += ord(c)\n",
    "        for c in t:\n",
    "            ans -= ord(c)\n",
    "\n",
    "        ans *= -1\n",
    "        return chr(ans)"
   ]
  },
  {
   "cell_type": "code",
   "execution_count": 27,
   "metadata": {},
   "outputs": [
    {
     "data": {
      "text/plain": [
       "'y'"
      ]
     },
     "execution_count": 27,
     "metadata": {},
     "output_type": "execute_result"
    }
   ],
   "source": [
    "solution = Solution()\n",
    "solution.findTheDifference('', 'y')"
   ]
  }
 ],
 "metadata": {
  "interpreter": {
   "hash": "318358cca711dfbc264410b226aa7c628b8407a12b94d28436652763d1fa5a27"
  },
  "kernelspec": {
   "display_name": "Python 3.8.3 64-bit ('base': conda)",
   "name": "python3"
  },
  "language_info": {
   "codemirror_mode": {
    "name": "ipython",
    "version": 3
   },
   "file_extension": ".py",
   "mimetype": "text/x-python",
   "name": "python",
   "nbconvert_exporter": "python",
   "pygments_lexer": "ipython3",
   "version": "3.8.3"
  },
  "orig_nbformat": 4
 },
 "nbformat": 4,
 "nbformat_minor": 2
}
