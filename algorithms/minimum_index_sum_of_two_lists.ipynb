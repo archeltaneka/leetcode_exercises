{
 "cells": [
  {
   "cell_type": "code",
   "execution_count": 54,
   "metadata": {},
   "outputs": [],
   "source": [
    "class Solution:\n",
    "    def findRestaurant(self, list1, list2):\n",
    "        r1 = {}\n",
    "        r2 = {}\n",
    "        idx1 = 0\n",
    "        idx2 = 0\n",
    "        for a in list1:\n",
    "            if a not in r1:\n",
    "                r1[a] = idx1\n",
    "                idx1 += 1\n",
    "        for b in list2:\n",
    "            if b not in r2:\n",
    "                r2[b] = idx2\n",
    "                idx2 += 1\n",
    "        overlap = set(r1).intersection(set(r2))\n",
    "        smallest = 10000\n",
    "        ans = []\n",
    "        for word in overlap:\n",
    "            smallest = min(smallest, r1[word] + r2[word])\n",
    "        for word in overlap:\n",
    "            if r1[word] + r2[word] == smallest:\n",
    "                    ans.append(word)\n",
    "\n",
    "        return ans"
   ]
  },
  {
   "cell_type": "code",
   "execution_count": 55,
   "metadata": {},
   "outputs": [
    {
     "data": {
      "text/plain": [
       "['Shogun']"
      ]
     },
     "execution_count": 55,
     "metadata": {},
     "output_type": "execute_result"
    }
   ],
   "source": [
    "solution = Solution()\n",
    "solution.findRestaurant([\"Shogun\",\"Tapioca Express\",\"Burger King\",\"KFC\"], [\"KFC\",\"Shogun\",\"Burger King\"])"
   ]
  },
  {
   "cell_type": "code",
   "execution_count": 68,
   "metadata": {},
   "outputs": [],
   "source": [
    "class Solution:\n",
    "    def findRestaurant(self, list1, list2):\n",
    "        \"\"\"\n",
    "        Less memory\n",
    "        \"\"\"\n",
    "        r1 = {}\n",
    "        idx1 = 0\n",
    "        ans = []\n",
    "        for a in list1:\n",
    "            if a not in r1:\n",
    "                r1[a] = idx1\n",
    "                idx1 += 1\n",
    "        smallest = 10000\n",
    "        for i in range(len(list2)):\n",
    "            if list2[i] in r1:\n",
    "                if smallest > r1[list2[i]] + i:\n",
    "                    ans = []\n",
    "                    smallest = r1[list2[i]] + i\n",
    "                    ans.append(list2[i])\n",
    "                elif smallest == r1[list2[i]] + i:\n",
    "                    ans.append(list2[i])\n",
    "        return ans"
   ]
  },
  {
   "cell_type": "code",
   "execution_count": 69,
   "metadata": {},
   "outputs": [
    {
     "data": {
      "text/plain": [
       "['Shogun']"
      ]
     },
     "execution_count": 69,
     "metadata": {},
     "output_type": "execute_result"
    }
   ],
   "source": [
    "solution = Solution()\n",
    "solution.findRestaurant([\"Shogun\",\"Tapioca Express\",\"Burger King\",\"KFC\"], [\"KFC\",\"Shogun\",\"Burger King\"])"
   ]
  },
  {
   "cell_type": "code",
   "execution_count": null,
   "metadata": {},
   "outputs": [],
   "source": []
  }
 ],
 "metadata": {
  "interpreter": {
   "hash": "318358cca711dfbc264410b226aa7c628b8407a12b94d28436652763d1fa5a27"
  },
  "kernelspec": {
   "display_name": "Python 3.8.3 64-bit ('base': conda)",
   "language": "python",
   "name": "python3"
  },
  "language_info": {
   "codemirror_mode": {
    "name": "ipython",
    "version": 3
   },
   "file_extension": ".py",
   "mimetype": "text/x-python",
   "name": "python",
   "nbconvert_exporter": "python",
   "pygments_lexer": "ipython3",
   "version": "3.8.3"
  },
  "orig_nbformat": 4
 },
 "nbformat": 4,
 "nbformat_minor": 2
}
