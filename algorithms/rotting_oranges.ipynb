{
 "cells": [
  {
   "cell_type": "code",
   "execution_count": 7,
   "metadata": {},
   "outputs": [],
   "source": [
    "class Solution:\n",
    "    def orangesRotting(self, grid) -> int:\n",
    "        not_rotten = 0\n",
    "        queue = []\n",
    "        for i in range(len(grid)):\n",
    "            for j in range(len(grid[i])):\n",
    "                if grid[i][j] == 2:\n",
    "                    queue.append((i,j))\n",
    "                elif grid[i][j] == 1:\n",
    "                    not_rotten += 1\n",
    "        time_elapsed = 0\n",
    "        while queue and not_rotten > 0:\n",
    "            for i in range(len(queue)):\n",
    "                r, c = queue.pop(0)\n",
    "                for x,y in [(r,c+1), (r,c-1), (r+1,c), (r-1,c)]:\n",
    "                    if (0 <= x < len(grid)) and (0 <= y < len(grid[0])) and grid[x][y] == 1:\n",
    "                        grid[x][y] = 2\n",
    "                        not_rotten -= 1\n",
    "                        queue.append((x, y))\n",
    "            time_elapsed += 1\n",
    "        if not_rotten > 0:\n",
    "            return -1\n",
    "        else:\n",
    "            return time_elapsed\n"
   ]
  },
  {
   "cell_type": "code",
   "execution_count": 8,
   "metadata": {},
   "outputs": [
    {
     "data": {
      "text/plain": [
       "4"
      ]
     },
     "execution_count": 8,
     "metadata": {},
     "output_type": "execute_result"
    }
   ],
   "source": [
    "solution = Solution()\n",
    "solution.orangesRotting(grid = [[2,1,1],[1,1,0],[0,1,1]])"
   ]
  },
  {
   "cell_type": "code",
   "execution_count": null,
   "metadata": {},
   "outputs": [],
   "source": []
  }
 ],
 "metadata": {
  "interpreter": {
   "hash": "318358cca711dfbc264410b226aa7c628b8407a12b94d28436652763d1fa5a27"
  },
  "kernelspec": {
   "display_name": "Python 3.8.3 64-bit ('base': conda)",
   "language": "python",
   "name": "python3"
  },
  "language_info": {
   "codemirror_mode": {
    "name": "ipython",
    "version": 3
   },
   "file_extension": ".py",
   "mimetype": "text/x-python",
   "name": "python",
   "nbconvert_exporter": "python",
   "pygments_lexer": "ipython3",
   "version": "3.8.3"
  },
  "orig_nbformat": 4
 },
 "nbformat": 4,
 "nbformat_minor": 2
}
