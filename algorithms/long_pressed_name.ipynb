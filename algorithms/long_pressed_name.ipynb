{
 "cells": [
  {
   "cell_type": "code",
   "execution_count": null,
   "metadata": {},
   "outputs": [],
   "source": [
    "class Solution:\n",
    "    def isLongPressedName(self, name: str, typed: str) -> bool:\n",
    "        if len(name) > len(typed) or name[0] != typed[0]:\n",
    "            return False\n",
    "        idx = 0\n",
    "        for c in typed:\n",
    "            if idx < len(name) and c == name[idx]:\n",
    "                idx += 1\n",
    "            elif c != name[idx-1]:\n",
    "                return False\n",
    "        return idx >= len(name)"
   ]
  }
 ],
 "metadata": {
  "interpreter": {
   "hash": "318358cca711dfbc264410b226aa7c628b8407a12b94d28436652763d1fa5a27"
  },
  "kernelspec": {
   "display_name": "Python 3.8.3 ('base')",
   "language": "python",
   "name": "python3"
  },
  "language_info": {
   "name": "python",
   "version": "3.8.3"
  },
  "orig_nbformat": 4
 },
 "nbformat": 4,
 "nbformat_minor": 2
}
