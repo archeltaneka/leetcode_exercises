{
 "cells": [
  {
   "cell_type": "code",
   "execution_count": 37,
   "metadata": {},
   "outputs": [],
   "source": [
    "class Solution:\n",
    "    def dayOfYear(self, date: str) -> int:\n",
    "        d = date.split('-')\n",
    "        if d[1][0] == '0':\n",
    "            month = int(d[1][1])\n",
    "        else:\n",
    "            month = int(d[1])\n",
    "        if d[2][0] == '0':\n",
    "            day = int(d[2][1])\n",
    "        else:\n",
    "            day = int(d[2])\n",
    "        num_of_days = 0\n",
    "        for m in range(1, month):\n",
    "            if m in (1, 3, 5, 7, 8, 10, 12):\n",
    "                num_of_days += 31\n",
    "            elif m in (4, 6, 9, 11):\n",
    "                num_of_days += 30\n",
    "            elif m == 2 and int(d[0]) % 4 == 0:\n",
    "                num_of_days += 29\n",
    "            elif m == 2 and int(d[0]) % 4 != 0:\n",
    "                num_of_days += 28\n",
    "        \n",
    "        return num_of_days + day"
   ]
  },
  {
   "cell_type": "code",
   "execution_count": 40,
   "metadata": {},
   "outputs": [
    {
     "data": {
      "text/plain": [
       "41"
      ]
     },
     "execution_count": 40,
     "metadata": {},
     "output_type": "execute_result"
    }
   ],
   "source": [
    "solution = Solution()\n",
    "solution.dayOfYear(\"2010-02-10\")"
   ]
  },
  {
   "cell_type": "code",
   "execution_count": null,
   "metadata": {},
   "outputs": [],
   "source": []
  }
 ],
 "metadata": {
  "interpreter": {
   "hash": "318358cca711dfbc264410b226aa7c628b8407a12b94d28436652763d1fa5a27"
  },
  "kernelspec": {
   "display_name": "Python 3.8.3 64-bit ('base': conda)",
   "language": "python",
   "name": "python3"
  },
  "language_info": {
   "codemirror_mode": {
    "name": "ipython",
    "version": 3
   },
   "file_extension": ".py",
   "mimetype": "text/x-python",
   "name": "python",
   "nbconvert_exporter": "python",
   "pygments_lexer": "ipython3",
   "version": "3.8.3"
  },
  "orig_nbformat": 4
 },
 "nbformat": 4,
 "nbformat_minor": 2
}
