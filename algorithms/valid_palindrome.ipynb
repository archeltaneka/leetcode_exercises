{
 "cells": [
  {
   "cell_type": "code",
   "execution_count": 45,
   "metadata": {},
   "outputs": [],
   "source": [
    "import re\n",
    "class Solution:\n",
    "    \"\"\"\n",
    "    Regex\n",
    "    \"\"\"\n",
    "    def isPalindrome(self, s: str) -> bool:\n",
    "        s = s.lower()\n",
    "        s = re.sub(r'\\W+', '', s)\n",
    "        s = re.sub(r'_', '', s)\n",
    "        new_s = ''\n",
    "        for i in range(len(s)-1, -1, -1):\n",
    "            new_s += s[i]\n",
    "        \n",
    "        return s == new_s"
   ]
  },
  {
   "cell_type": "code",
   "execution_count": 47,
   "metadata": {},
   "outputs": [
    {
     "name": "stdout",
     "output_type": "stream",
     "text": [
      "aba\n"
     ]
    },
    {
     "data": {
      "text/plain": [
       "True"
      ]
     },
     "execution_count": 47,
     "metadata": {},
     "output_type": "execute_result"
    }
   ],
   "source": [
    "solution = Solution()\n",
    "solution.isPalindrome('ab_a')"
   ]
  },
  {
   "cell_type": "code",
   "execution_count": 84,
   "metadata": {},
   "outputs": [],
   "source": [
    "class Solution:\n",
    "    \"\"\"\n",
    "    Much simpler: O(n) time O(1) space\n",
    "    \"\"\"\n",
    "    def isPalindrome(self, s: str) -> bool:\n",
    "        i = 0\n",
    "        j = len(s)-1\n",
    "\n",
    "        while(i <= j):\n",
    "            while(i < len(s) and s[i].isalnum() == False):\n",
    "                i += 1 \n",
    "            while(j >= 0 and s[j].isalnum() == False):\n",
    "                j -= 1\n",
    "            if i < len(s) and j >= 0 and s[i].lower() != s[j].lower():\n",
    "                return False\n",
    "\n",
    "            i += 1\n",
    "            j -= 1\n",
    "        \n",
    "        return True\n"
   ]
  },
  {
   "cell_type": "code",
   "execution_count": 85,
   "metadata": {},
   "outputs": [
    {
     "data": {
      "text/plain": [
       "False"
      ]
     },
     "execution_count": 85,
     "metadata": {},
     "output_type": "execute_result"
    }
   ],
   "source": [
    "solution = Solution()\n",
    "solution.isPalindrome('race a car')"
   ]
  },
  {
   "cell_type": "code",
   "execution_count": null,
   "metadata": {},
   "outputs": [],
   "source": []
  }
 ],
 "metadata": {
  "interpreter": {
   "hash": "318358cca711dfbc264410b226aa7c628b8407a12b94d28436652763d1fa5a27"
  },
  "kernelspec": {
   "display_name": "Python 3.8.3 64-bit ('base': conda)",
   "name": "python3"
  },
  "language_info": {
   "codemirror_mode": {
    "name": "ipython",
    "version": 3
   },
   "file_extension": ".py",
   "mimetype": "text/x-python",
   "name": "python",
   "nbconvert_exporter": "python",
   "pygments_lexer": "ipython3",
   "version": "3.8.3"
  },
  "orig_nbformat": 4
 },
 "nbformat": 4,
 "nbformat_minor": 2
}
