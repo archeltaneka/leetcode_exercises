{
 "cells": [
  {
   "cell_type": "code",
   "execution_count": 46,
   "metadata": {},
   "outputs": [],
   "source": [
    "\"\"\"\n",
    "Hashset Cycle Detection\n",
    "\"\"\"\n",
    "\n",
    "class Solution:\n",
    "    def isHappy(self, n: int) -> bool:\n",
    "        \n",
    "        def get_next(n):\n",
    "            total = 0\n",
    "            while n > 0:\n",
    "                n, digit = divmod(n, 10)\n",
    "                total += digit ** 2\n",
    "            return total\n",
    "\n",
    "        hash_set = set()\n",
    "        flag = False\n",
    "        while n != 1 and n not in hash_set:\n",
    "            hash_set.add(n)\n",
    "            n = get_next(n)\n",
    "\n",
    "        return n == 1"
   ]
  },
  {
   "cell_type": "code",
   "execution_count": 47,
   "metadata": {},
   "outputs": [
    {
     "data": {
      "text/plain": [
       "True"
      ]
     },
     "execution_count": 47,
     "metadata": {},
     "output_type": "execute_result"
    }
   ],
   "source": [
    "solution = Solution()\n",
    "solution.isHappy(7)"
   ]
  },
  {
   "cell_type": "code",
   "execution_count": 56,
   "metadata": {},
   "outputs": [],
   "source": [
    "\"\"\"\n",
    "Floyd's Cycle Detection\n",
    "\"\"\"\n",
    "\n",
    "class Solution:\n",
    "    def isHappy(self, n: int) -> bool:\n",
    "        \n",
    "        def get_next(n):\n",
    "            total = 0\n",
    "            while n > 0:\n",
    "                n, digit = divmod(n, 10)\n",
    "                total += digit ** 2\n",
    "            return total\n",
    "\n",
    "        slow_runner = n\n",
    "        fast_runner = get_next(n)\n",
    "        while slow_runner != fast_runner and fast_runner != 1:\n",
    "            slow_runner = get_next(slow_runner)\n",
    "            fast_runner = get_next(get_next(fast_runner))\n",
    "\n",
    "        return fast_runner == 1"
   ]
  },
  {
   "cell_type": "code",
   "execution_count": 57,
   "metadata": {},
   "outputs": [
    {
     "data": {
      "text/plain": [
       "True"
      ]
     },
     "execution_count": 57,
     "metadata": {},
     "output_type": "execute_result"
    }
   ],
   "source": [
    "solution = Solution()\n",
    "solution.isHappy(7)"
   ]
  },
  {
   "cell_type": "code",
   "execution_count": 76,
   "metadata": {},
   "outputs": [],
   "source": [
    "n = 30294\n",
    "temp = 0\n",
    "while n > 0:\n",
    "    remainder = n % 10\n",
    "    temp = temp * 10 + remainder\n",
    "    n = n // 10"
   ]
  },
  {
   "cell_type": "code",
   "execution_count": 77,
   "metadata": {},
   "outputs": [
    {
     "data": {
      "text/plain": [
       "49203"
      ]
     },
     "execution_count": 77,
     "metadata": {},
     "output_type": "execute_result"
    }
   ],
   "source": [
    "temp"
   ]
  },
  {
   "cell_type": "code",
   "execution_count": null,
   "metadata": {},
   "outputs": [],
   "source": []
  }
 ],
 "metadata": {
  "interpreter": {
   "hash": "318358cca711dfbc264410b226aa7c628b8407a12b94d28436652763d1fa5a27"
  },
  "kernelspec": {
   "display_name": "Python 3.8.3 64-bit ('base': conda)",
   "name": "python3"
  },
  "language_info": {
   "codemirror_mode": {
    "name": "ipython",
    "version": 3
   },
   "file_extension": ".py",
   "mimetype": "text/x-python",
   "name": "python",
   "nbconvert_exporter": "python",
   "pygments_lexer": "ipython3",
   "version": "3.8.3"
  },
  "orig_nbformat": 4
 },
 "nbformat": 4,
 "nbformat_minor": 2
}
