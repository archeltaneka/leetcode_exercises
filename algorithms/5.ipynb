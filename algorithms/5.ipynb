{
 "cells": [
  {
   "cell_type": "code",
   "execution_count": 26,
   "metadata": {},
   "outputs": [],
   "source": [
    "class Solution:\n",
    "    def longestPalindrome(self, s: str) -> str:\n",
    "        \"\"\"\n",
    "        Start from the middle of the string\n",
    "\n",
    "        asdabbasfd\n",
    "            ^\n",
    "        \n",
    "        \"\"\"\n",
    "        def palindrome(left, right):\n",
    "            while left >= 0 and right < len(s) and s[left] == s[right]:\n",
    "                left -= 1\n",
    "                right += 1\n",
    "            return s[left+1:right] # the last char is included after exiting the loop, hence +1 (ex: fabba)\n",
    "        \n",
    "        ans = ''\n",
    "        for i in range(len(s)):\n",
    "            odd = palindrome(i, i) # odd length palindrome: 'aba'\n",
    "            even = palindrome(i, i+1) # even length palindrome 'abba'\n",
    "            ans = max(ans, odd, even, key=lambda x: len(x))\n",
    "        \n",
    "        return ans"
   ]
  },
  {
   "cell_type": "code",
   "execution_count": 27,
   "metadata": {},
   "outputs": [
    {
     "name": "stdout",
     "output_type": "stream",
     "text": [
      "\n",
      "a\n",
      "as\n",
      "s\n",
      "sd\n",
      "d\n",
      "df\n",
      "f\n",
      "fa\n",
      "a\n",
      "ab\n",
      "fabba\n",
      "bb\n",
      "b\n",
      "ba\n",
      "a\n",
      "ad\n",
      "d\n"
     ]
    },
    {
     "data": {
      "text/plain": [
       "'abba'"
      ]
     },
     "execution_count": 27,
     "metadata": {},
     "output_type": "execute_result"
    }
   ],
   "source": [
    "solution = Solution()\n",
    "solution.longestPalindrome(\"asdfabbad\")"
   ]
  },
  {
   "cell_type": "code",
   "execution_count": null,
   "metadata": {},
   "outputs": [],
   "source": []
  }
 ],
 "metadata": {
  "interpreter": {
   "hash": "318358cca711dfbc264410b226aa7c628b8407a12b94d28436652763d1fa5a27"
  },
  "kernelspec": {
   "display_name": "Python 3.8.3 ('base')",
   "language": "python",
   "name": "python3"
  },
  "language_info": {
   "codemirror_mode": {
    "name": "ipython",
    "version": 3
   },
   "file_extension": ".py",
   "mimetype": "text/x-python",
   "name": "python",
   "nbconvert_exporter": "python",
   "pygments_lexer": "ipython3",
   "version": "3.8.3"
  },
  "orig_nbformat": 4
 },
 "nbformat": 4,
 "nbformat_minor": 2
}
