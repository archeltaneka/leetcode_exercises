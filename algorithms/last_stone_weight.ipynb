{
 "cells": [
  {
   "cell_type": "code",
   "execution_count": 28,
   "metadata": {},
   "outputs": [],
   "source": [
    "class Solution:\n",
    "    def lastStoneWeight(self, stones) -> int:\n",
    "        if len(stones) == 1:\n",
    "            return stones[0]\n",
    "        while len(stones) > 0:\n",
    "            if len(stones) == 1:\n",
    "                return stones[0]\n",
    "            stones = sorted(stones, reverse=True)\n",
    "            if stones[0] < stones[1]:\n",
    "                stones[1] -= stones[0]\n",
    "                stones.remove(stones[0])\n",
    "            elif stones[0] > stones[1]:\n",
    "                stones[0] -= stones[1]\n",
    "                stones.remove(stones[1])\n",
    "            else:\n",
    "                for _ in range(2):\n",
    "                    stones.remove(stones[0])\n",
    "        return 0"
   ]
  },
  {
   "cell_type": "code",
   "execution_count": 29,
   "metadata": {},
   "outputs": [
    {
     "data": {
      "text/plain": [
       "1"
      ]
     },
     "execution_count": 29,
     "metadata": {},
     "output_type": "execute_result"
    }
   ],
   "source": [
    "solution = Solution()\n",
    "solution.lastStoneWeight([2, 2, 3])"
   ]
  },
  {
   "cell_type": "code",
   "execution_count": null,
   "metadata": {},
   "outputs": [],
   "source": []
  }
 ],
 "metadata": {
  "interpreter": {
   "hash": "318358cca711dfbc264410b226aa7c628b8407a12b94d28436652763d1fa5a27"
  },
  "kernelspec": {
   "display_name": "Python 3.8.3 64-bit ('base': conda)",
   "language": "python",
   "name": "python3"
  },
  "language_info": {
   "codemirror_mode": {
    "name": "ipython",
    "version": 3
   },
   "file_extension": ".py",
   "mimetype": "text/x-python",
   "name": "python",
   "nbconvert_exporter": "python",
   "pygments_lexer": "ipython3",
   "version": "3.8.3"
  },
  "orig_nbformat": 4
 },
 "nbformat": 4,
 "nbformat_minor": 2
}
