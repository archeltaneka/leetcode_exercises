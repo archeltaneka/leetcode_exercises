{
 "cells": [
  {
   "cell_type": "code",
   "execution_count": 35,
   "metadata": {},
   "outputs": [],
   "source": [
    "class Solution:\n",
    "    def areAlmostEqual(self, s1: str, s2: str) -> bool:\n",
    "        if s1 == s2:\n",
    "            return True\n",
    "        if len(s1) != len(s2):\n",
    "            return False\n",
    "        temp = {}\n",
    "        for s in s1:\n",
    "            if s not in temp:\n",
    "                temp[s] = 1\n",
    "            else:\n",
    "                temp[s] += 1\n",
    "        for s in s2:\n",
    "            if s in temp:\n",
    "                temp[s] -= 1\n",
    "            else:\n",
    "                temp[s] = 1\n",
    "        print(temp)\n",
    "        for v in temp.values():\n",
    "            if v > 0:\n",
    "                return False\n",
    "        idx_swap = []\n",
    "        for i in range(len(s1)):\n",
    "            if s1[i] != s2[i]:\n",
    "                idx_swap.append(i)\n",
    "        if len(idx_swap) > 2 or len(idx_swap) == 1:\n",
    "            return False\n",
    "        else:\n",
    "            return True\n"
   ]
  },
  {
   "cell_type": "code",
   "execution_count": 36,
   "metadata": {},
   "outputs": [
    {
     "name": "stdout",
     "output_type": "stream",
     "text": [
      "{'a': 2, 'b': 0}\n"
     ]
    },
    {
     "data": {
      "text/plain": [
       "False"
      ]
     },
     "execution_count": 36,
     "metadata": {},
     "output_type": "execute_result"
    }
   ],
   "source": [
    "solution = Solution()\n",
    "solution.areAlmostEqual(s1 = \"aa\", s2 = \"bb\")"
   ]
  },
  {
   "cell_type": "code",
   "execution_count": null,
   "metadata": {},
   "outputs": [],
   "source": [
    "class Solution:\n",
    "    \"\"\"\n",
    "    Much simpler solution\n",
    "    \"\"\"\n",
    "    def areAlmostEqual(self, s1: str, s2: str) -> bool:\n",
    "        if set(s1) != set(s2):\n",
    "            return False\n",
    "        \n",
    "        diff = 0\n",
    "        for i in range(len(s1)):\n",
    "            if s1[i] != s2[i]:\n",
    "                diff += 1\n",
    "        if diff == 1 or diff > 2:\n",
    "            return False\n",
    "        else:\n",
    "            return True"
   ]
  }
 ],
 "metadata": {
  "interpreter": {
   "hash": "318358cca711dfbc264410b226aa7c628b8407a12b94d28436652763d1fa5a27"
  },
  "kernelspec": {
   "display_name": "Python 3.8.3 64-bit ('base': conda)",
   "language": "python",
   "name": "python3"
  },
  "language_info": {
   "codemirror_mode": {
    "name": "ipython",
    "version": 3
   },
   "file_extension": ".py",
   "mimetype": "text/x-python",
   "name": "python",
   "nbconvert_exporter": "python",
   "pygments_lexer": "ipython3",
   "version": "3.8.3"
  },
  "orig_nbformat": 4
 },
 "nbformat": 4,
 "nbformat_minor": 2
}
