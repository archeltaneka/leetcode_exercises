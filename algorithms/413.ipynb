{
 "cells": [
  {
   "cell_type": "code",
   "execution_count": 16,
   "metadata": {},
   "outputs": [],
   "source": [
    "class Solution:\n",
    "    def numberOfArithmeticSlices(self, nums) -> int:\n",
    "        \"\"\"\n",
    "        Solve w/ DP:\n",
    "        1. [1,3,5,-1,7,8,9] -> convert this into array diff instead [2, 2, 6, -8, 1, 1]\n",
    "        2. increment cnt if it encounters the same diff, set cnt=1 and cur_diff=diff otherwise\n",
    "        \"\"\"\n",
    "        cur_diff, cnt = -1, 0\n",
    "        ans = 0\n",
    "        for i in range(len(nums)-1):\n",
    "            diff = nums[i] - nums[i+1]\n",
    "            if diff != cur_diff:\n",
    "                cur_diff = diff\n",
    "                cnt = 1\n",
    "            else:\n",
    "                ans += cnt\n",
    "                cnt += 1\n",
    "        return ans"
   ]
  },
  {
   "cell_type": "code",
   "execution_count": 17,
   "metadata": {},
   "outputs": [
    {
     "data": {
      "text/plain": [
       "3"
      ]
     },
     "execution_count": 17,
     "metadata": {},
     "output_type": "execute_result"
    }
   ],
   "source": [
    "solution = Solution()\n",
    "solution.numberOfArithmeticSlices([1,2,3,4])"
   ]
  },
  {
   "cell_type": "code",
   "execution_count": null,
   "metadata": {},
   "outputs": [],
   "source": []
  }
 ],
 "metadata": {
  "interpreter": {
   "hash": "318358cca711dfbc264410b226aa7c628b8407a12b94d28436652763d1fa5a27"
  },
  "kernelspec": {
   "display_name": "Python 3.8.3 ('base')",
   "language": "python",
   "name": "python3"
  },
  "language_info": {
   "codemirror_mode": {
    "name": "ipython",
    "version": 3
   },
   "file_extension": ".py",
   "mimetype": "text/x-python",
   "name": "python",
   "nbconvert_exporter": "python",
   "pygments_lexer": "ipython3",
   "version": "3.8.3"
  },
  "orig_nbformat": 4
 },
 "nbformat": 4,
 "nbformat_minor": 2
}
