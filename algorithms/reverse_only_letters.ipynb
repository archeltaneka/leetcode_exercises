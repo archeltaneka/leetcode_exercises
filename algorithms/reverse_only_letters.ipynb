{
 "cells": [
  {
   "cell_type": "code",
   "execution_count": 48,
   "metadata": {},
   "outputs": [],
   "source": [
    "class Solution:\n",
    "    def reverseOnlyLetters(self, s: str) -> str:\n",
    "        l = list(s)\n",
    "        i, j = 0, len(l)-1\n",
    "        while i <= j:\n",
    "            if l[i].isalpha():\n",
    "                if l[j].isalpha():\n",
    "                    l[i], l[j] = l[j], l[i]\n",
    "                    i += 1\n",
    "                    j -= 1\n",
    "                else:\n",
    "                    j -= 1\n",
    "            else:\n",
    "                if l[j].isalpha():\n",
    "                    i += 1\n",
    "                else:\n",
    "                    i += 1\n",
    "                    j -= 1\n",
    "        return ''.join(c for c in l)"
   ]
  },
  {
   "cell_type": "code",
   "execution_count": 50,
   "metadata": {},
   "outputs": [
    {
     "data": {
      "text/plain": [
       "'Qedo1ct-eeLg=ntse-T!'"
      ]
     },
     "execution_count": 50,
     "metadata": {},
     "output_type": "execute_result"
    }
   ],
   "source": [
    "solution = Solution()\n",
    "solution.reverseOnlyLetters(\"Test1ng-Leet=code-Q!\")"
   ]
  }
 ],
 "metadata": {
  "interpreter": {
   "hash": "318358cca711dfbc264410b226aa7c628b8407a12b94d28436652763d1fa5a27"
  },
  "kernelspec": {
   "display_name": "Python 3.8.3 64-bit ('base': conda)",
   "language": "python",
   "name": "python3"
  },
  "language_info": {
   "codemirror_mode": {
    "name": "ipython",
    "version": 3
   },
   "file_extension": ".py",
   "mimetype": "text/x-python",
   "name": "python",
   "nbconvert_exporter": "python",
   "pygments_lexer": "ipython3",
   "version": "3.8.3"
  },
  "orig_nbformat": 4
 },
 "nbformat": 4,
 "nbformat_minor": 2
}
