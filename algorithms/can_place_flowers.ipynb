{
 "cells": [
  {
   "cell_type": "code",
   "execution_count": 72,
   "metadata": {},
   "outputs": [],
   "source": [
    "class Solution:\n",
    "    def canPlaceFlowers(self, flowerbed, n) -> bool:\n",
    "        if n == 0:\n",
    "            return True\n",
    "        if len(flowerbed) == 1:\n",
    "            if flowerbed[0] == 0:\n",
    "                if n == 1:\n",
    "                    return True\n",
    "                else:\n",
    "                    return False\n",
    "            else:\n",
    "                if n == 0:\n",
    "                    return True\n",
    "                return False\n",
    "        for i in range(len(flowerbed)):\n",
    "            if i == 0:\n",
    "                if flowerbed[i] == 0 and flowerbed[i+1] == 0:\n",
    "                    if n > 0:\n",
    "                        flowerbed[i] = 1\n",
    "                        n -= 1\n",
    "            if i == len(flowerbed)-1:\n",
    "                if flowerbed[i] == 0 and flowerbed[i-1] == 0:\n",
    "                    if n > 0:\n",
    "                        flowerbed[i] = 1\n",
    "                        n -= 1\n",
    "            if i != 0 and i != len(flowerbed)-1:\n",
    "                if flowerbed[i] == 0 and flowerbed[i-1] == 0 and flowerbed[i+1] == 0:\n",
    "                    if n > 0:\n",
    "                        flowerbed[i] = 1\n",
    "                        n -= 1\n",
    "            if n == 0:\n",
    "                return True\n",
    "        return False"
   ]
  },
  {
   "cell_type": "code",
   "execution_count": 73,
   "metadata": {},
   "outputs": [
    {
     "data": {
      "text/plain": [
       "True"
      ]
     },
     "execution_count": 73,
     "metadata": {},
     "output_type": "execute_result"
    }
   ],
   "source": [
    "solution = Solution()\n",
    "solution.canPlaceFlowers(flowerbed = [0], n = 1)"
   ]
  },
  {
   "cell_type": "code",
   "execution_count": null,
   "metadata": {},
   "outputs": [],
   "source": []
  }
 ],
 "metadata": {
  "interpreter": {
   "hash": "318358cca711dfbc264410b226aa7c628b8407a12b94d28436652763d1fa5a27"
  },
  "kernelspec": {
   "display_name": "Python 3.8.3 64-bit ('base': conda)",
   "language": "python",
   "name": "python3"
  },
  "language_info": {
   "codemirror_mode": {
    "name": "ipython",
    "version": 3
   },
   "file_extension": ".py",
   "mimetype": "text/x-python",
   "name": "python",
   "nbconvert_exporter": "python",
   "pygments_lexer": "ipython3",
   "version": "3.8.3"
  },
  "orig_nbformat": 4
 },
 "nbformat": 4,
 "nbformat_minor": 2
}
