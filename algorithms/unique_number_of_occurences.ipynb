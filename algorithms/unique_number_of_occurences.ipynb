{
 "cells": [
  {
   "cell_type": "code",
   "execution_count": 31,
   "metadata": {},
   "outputs": [],
   "source": [
    "class Solution:\n",
    "    def uniqueOccurrences(self, arr) -> bool:\n",
    "        cnt = {}\n",
    "        for num in arr:\n",
    "            if num in cnt:\n",
    "                cnt[num] += 1\n",
    "            else:\n",
    "                cnt[num] = 1\n",
    "        cnt = {k: v for k,v in sorted(cnt.items(), key=lambda x: x[1])}\n",
    "        print(cnt)\n",
    "        cnts = list(cnt.values())\n",
    "        tmp = cnts[0]\n",
    "        for i in range(1, len(cnts)):\n",
    "            if cnts[i] == tmp:\n",
    "                return False\n",
    "            tmp = cnts[i]\n",
    "        return True\n"
   ]
  },
  {
   "cell_type": "code",
   "execution_count": 32,
   "metadata": {},
   "outputs": [
    {
     "name": "stdout",
     "output_type": "stream",
     "text": [
      "{17: 1, 26: 3, 5: 4, 20: 6, 2: 7, 16: 7}\n"
     ]
    },
    {
     "data": {
      "text/plain": [
       "False"
      ]
     },
     "execution_count": 32,
     "metadata": {},
     "output_type": "execute_result"
    }
   ],
   "source": [
    "solution = Solution()\n",
    "solution.uniqueOccurrences([1,2,2,2,1,3])"
   ]
  },
  {
   "cell_type": "code",
   "execution_count": null,
   "metadata": {},
   "outputs": [],
   "source": []
  }
 ],
 "metadata": {
  "interpreter": {
   "hash": "318358cca711dfbc264410b226aa7c628b8407a12b94d28436652763d1fa5a27"
  },
  "kernelspec": {
   "display_name": "Python 3.8.3 64-bit ('base': conda)",
   "language": "python",
   "name": "python3"
  },
  "language_info": {
   "codemirror_mode": {
    "name": "ipython",
    "version": 3
   },
   "file_extension": ".py",
   "mimetype": "text/x-python",
   "name": "python",
   "nbconvert_exporter": "python",
   "pygments_lexer": "ipython3",
   "version": "3.8.3"
  },
  "orig_nbformat": 4
 },
 "nbformat": 4,
 "nbformat_minor": 2
}
