{
 "cells": [
  {
   "cell_type": "code",
   "execution_count": 9,
   "source": [
    "class Solution:\r\n",
    "    def singleNumber(self, nums: [int]) -> int:\r\n",
    "        nums_dict = {}\r\n",
    "        for n in nums:\r\n",
    "            if n not in nums_dict:\r\n",
    "                nums_dict[n] = 1\r\n",
    "            else:\r\n",
    "                nums_dict[n] += 1\r\n",
    "\r\n",
    "        for k, v in nums_dict.items():\r\n",
    "            if v == 1:\r\n",
    "                return k"
   ],
   "outputs": [],
   "metadata": {}
  },
  {
   "cell_type": "code",
   "execution_count": 11,
   "source": [
    "solution = Solution()\r\n",
    "solution.singleNumber([4,1,2,1,2])"
   ],
   "outputs": [
    {
     "output_type": "execute_result",
     "data": {
      "text/plain": [
       "4"
      ]
     },
     "metadata": {},
     "execution_count": 11
    }
   ],
   "metadata": {}
  },
  {
   "cell_type": "code",
   "execution_count": null,
   "source": [],
   "outputs": [],
   "metadata": {}
  }
 ],
 "metadata": {
  "orig_nbformat": 4,
  "language_info": {
   "name": "python",
   "version": "3.8.3",
   "mimetype": "text/x-python",
   "codemirror_mode": {
    "name": "ipython",
    "version": 3
   },
   "pygments_lexer": "ipython3",
   "nbconvert_exporter": "python",
   "file_extension": ".py"
  },
  "kernelspec": {
   "name": "python3",
   "display_name": "Python 3.8.3 64-bit ('base': conda)"
  },
  "interpreter": {
   "hash": "318358cca711dfbc264410b226aa7c628b8407a12b94d28436652763d1fa5a27"
  }
 },
 "nbformat": 4,
 "nbformat_minor": 2
}