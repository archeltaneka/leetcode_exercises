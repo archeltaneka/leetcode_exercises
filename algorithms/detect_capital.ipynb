{
 "cells": [
  {
   "cell_type": "code",
   "execution_count": 136,
   "metadata": {},
   "outputs": [],
   "source": [
    "class Solution:\n",
    "    def detectCapitalUse(self, word: str) -> bool:\n",
    "        if len(word) == 1:\n",
    "            return True\n",
    "        case1, case2, case3 = True, True, True\n",
    "        for i in range(len(word)):\n",
    "            if not word[i].isupper():\n",
    "                case1 = False\n",
    "                break\n",
    "        if case1:\n",
    "            return True\n",
    "        for i in range(len(word)):\n",
    "            if not word[i].islower():\n",
    "                case2 = False\n",
    "                break\n",
    "        if case2:\n",
    "            return True\n",
    "        if word[0].islower():\n",
    "            case3 = False\n",
    "        for i in range(1, len(word)):\n",
    "            if word[i].isupper():\n",
    "                case3 = False\n",
    "                break\n",
    "        if case3:\n",
    "            return True\n",
    "        \n",
    "        return False\n",
    "        "
   ]
  },
  {
   "cell_type": "code",
   "execution_count": 141,
   "metadata": {},
   "outputs": [
    {
     "data": {
      "text/plain": [
       "False"
      ]
     },
     "execution_count": 141,
     "metadata": {},
     "output_type": "execute_result"
    }
   ],
   "source": [
    "solution = Solution()\n",
    "solution.detectCapitalUse('bAAAA')"
   ]
  },
  {
   "cell_type": "code",
   "execution_count": null,
   "metadata": {},
   "outputs": [],
   "source": []
  }
 ],
 "metadata": {
  "interpreter": {
   "hash": "318358cca711dfbc264410b226aa7c628b8407a12b94d28436652763d1fa5a27"
  },
  "kernelspec": {
   "display_name": "Python 3.8.3 64-bit ('base': conda)",
   "language": "python",
   "name": "python3"
  },
  "language_info": {
   "codemirror_mode": {
    "name": "ipython",
    "version": 3
   },
   "file_extension": ".py",
   "mimetype": "text/x-python",
   "name": "python",
   "nbconvert_exporter": "python",
   "pygments_lexer": "ipython3",
   "version": "3.8.3"
  },
  "orig_nbformat": 4
 },
 "nbformat": 4,
 "nbformat_minor": 2
}
