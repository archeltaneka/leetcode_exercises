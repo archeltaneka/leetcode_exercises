{
 "cells": [
  {
   "cell_type": "code",
   "execution_count": 33,
   "metadata": {},
   "outputs": [],
   "source": [
    "class Solution:\n",
    "    def addDigits(self, num: int) -> int:\n",
    "        def add(n):\n",
    "            ans = 0\n",
    "            while(n > 0):\n",
    "                n, digit = divmod(n, 10)\n",
    "                ans += digit\n",
    "            return ans\n",
    "\n",
    "        if num < 10:\n",
    "            return num\n",
    "        next_sum = add(num)\n",
    "        while(next_sum >= 10):\n",
    "            next_sum = add(next_sum)\n",
    "        return next_sum"
   ]
  },
  {
   "cell_type": "code",
   "execution_count": 34,
   "metadata": {},
   "outputs": [
    {
     "data": {
      "text/plain": [
       "1"
      ]
     },
     "execution_count": 34,
     "metadata": {},
     "output_type": "execute_result"
    }
   ],
   "source": [
    "solution = Solution()\n",
    "solution.addDigits(19)"
   ]
  },
  {
   "cell_type": "markdown",
   "metadata": {},
   "source": [
    "[Digital Roots](https://en.wikipedia.org/wiki/Digital_root)"
   ]
  },
  {
   "cell_type": "code",
   "execution_count": 45,
   "metadata": {},
   "outputs": [],
   "source": [
    "class Solution:\n",
    "    \"\"\"\n",
    "    Math: Digital Roots\n",
    "    \"\"\"\n",
    "    def addDigits(self, num: int) -> int:\n",
    "        digital_root = 0\n",
    "        while(num > 0):\n",
    "            num, digits = divmod(num, 10)\n",
    "            digital_root += digits\n",
    "\n",
    "            if num == 0 and digital_root > 9:\n",
    "                num = digital_root\n",
    "                digital_root = 0\n",
    "        \n",
    "        return digital_root"
   ]
  },
  {
   "cell_type": "code",
   "execution_count": 46,
   "metadata": {},
   "outputs": [
    {
     "name": "stdout",
     "output_type": "stream",
     "text": [
      "271 8\n",
      "27 9\n",
      "2 16\n",
      "0 18\n",
      "1 8\n",
      "0 9\n"
     ]
    },
    {
     "data": {
      "text/plain": [
       "9"
      ]
     },
     "execution_count": 46,
     "metadata": {},
     "output_type": "execute_result"
    }
   ],
   "source": [
    "solution = Solution()\n",
    "solution.addDigits(2718)"
   ]
  },
  {
   "cell_type": "code",
   "execution_count": null,
   "metadata": {},
   "outputs": [],
   "source": []
  }
 ],
 "metadata": {
  "interpreter": {
   "hash": "318358cca711dfbc264410b226aa7c628b8407a12b94d28436652763d1fa5a27"
  },
  "kernelspec": {
   "display_name": "Python 3.8.3 64-bit ('base': conda)",
   "name": "python3"
  },
  "language_info": {
   "codemirror_mode": {
    "name": "ipython",
    "version": 3
   },
   "file_extension": ".py",
   "mimetype": "text/x-python",
   "name": "python",
   "nbconvert_exporter": "python",
   "pygments_lexer": "ipython3",
   "version": "3.8.3"
  },
  "orig_nbformat": 4
 },
 "nbformat": 4,
 "nbformat_minor": 2
}
