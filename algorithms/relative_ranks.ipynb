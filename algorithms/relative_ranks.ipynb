{
 "cells": [
  {
   "cell_type": "code",
   "execution_count": 20,
   "metadata": {},
   "outputs": [],
   "source": [
    "class Solution:\n",
    "    def findRelativeRanks(self, score):\n",
    "        ranks = {}\n",
    "        for s in score:\n",
    "            if s not in ranks:\n",
    "                ranks[s] = ''\n",
    "        ranks = dict(sorted(ranks.items(), reverse=True))\n",
    "        tmp = 4\n",
    "        for i, (k, v) in enumerate(ranks.items()):\n",
    "            if i == 0:\n",
    "                ranks[k] = 'Gold Medal'\n",
    "            elif i == 1:\n",
    "                ranks[k] = 'Silver Medal'\n",
    "            elif i == 2:\n",
    "                ranks[k] = 'Bronze Medal'\n",
    "            else:\n",
    "                ranks[k] = str(tmp)\n",
    "                tmp += 1\n",
    "        return [ranks[s] for s in score]"
   ]
  },
  {
   "cell_type": "code",
   "execution_count": 22,
   "metadata": {},
   "outputs": [
    {
     "data": {
      "text/plain": [
       "['Gold Medal', '5', 'Bronze Medal', 'Silver Medal', '4']"
      ]
     },
     "execution_count": 22,
     "metadata": {},
     "output_type": "execute_result"
    }
   ],
   "source": [
    "solution = Solution()\n",
    "solution.findRelativeRanks([10,3,8,9,4])"
   ]
  }
 ],
 "metadata": {
  "interpreter": {
   "hash": "318358cca711dfbc264410b226aa7c628b8407a12b94d28436652763d1fa5a27"
  },
  "kernelspec": {
   "display_name": "Python 3.8.3 64-bit ('base': conda)",
   "language": "python",
   "name": "python3"
  },
  "language_info": {
   "codemirror_mode": {
    "name": "ipython",
    "version": 3
   },
   "file_extension": ".py",
   "mimetype": "text/x-python",
   "name": "python",
   "nbconvert_exporter": "python",
   "pygments_lexer": "ipython3",
   "version": "3.8.3"
  },
  "orig_nbformat": 4
 },
 "nbformat": 4,
 "nbformat_minor": 2
}
