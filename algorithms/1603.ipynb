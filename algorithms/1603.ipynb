{
 "cells": [
  {
   "cell_type": "code",
   "execution_count": null,
   "metadata": {},
   "outputs": [],
   "source": [
    "class ParkingSystem:\n",
    "\n",
    "    def __init__(self, big: int, medium: int, small: int):\n",
    "        self.big = big\n",
    "        self.medium = medium\n",
    "        self.small = small\n",
    "\n",
    "    def addCar(self, carType: int) -> bool:\n",
    "        if carType == 1:\n",
    "            if self.big > 0:\n",
    "                self.big -= 1\n",
    "            else:\n",
    "                return False\n",
    "        elif carType == 2:\n",
    "            if self.medium > 0:\n",
    "                self.medium -= 1\n",
    "            else:\n",
    "                return False\n",
    "        else:\n",
    "            if self.small > 0:\n",
    "                self.small -= 1\n",
    "            else:\n",
    "                return False\n",
    "        return True\n",
    "\n",
    "# Your ParkingSystem object will be instantiated and called as such:\n",
    "obj = ParkingSystem(big=1, medium=1, small=0)\n",
    "param_1 = obj.addCar(1)"
   ]
  }
 ],
 "metadata": {
  "language_info": {
   "name": "python"
  },
  "orig_nbformat": 4
 },
 "nbformat": 4,
 "nbformat_minor": 2
}
