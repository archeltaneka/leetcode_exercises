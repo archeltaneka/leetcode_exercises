{
 "cells": [
  {
   "cell_type": "code",
   "execution_count": 3,
   "source": [
    "class Solution:\r\n",
    "    def isPalindrome(self, x: int) -> bool:\r\n",
    "        \"\"\"\r\n",
    "        String approach\r\n",
    "        \"\"\"\r\n",
    "        str_x = str(x)\r\n",
    "        is_palindrome = False\r\n",
    "        palindrome_str = ''\r\n",
    "\r\n",
    "        for i in range(len(str_x)-1, -1, -1):\r\n",
    "            palindrome_str += str_x[i]\r\n",
    "        \r\n",
    "        return palindrome_str == str_x"
   ],
   "outputs": [],
   "metadata": {}
  },
  {
   "cell_type": "code",
   "execution_count": 4,
   "source": [
    "solution = Solution()\r\n",
    "solution.isPalindrome(-121)"
   ],
   "outputs": [
    {
     "output_type": "execute_result",
     "data": {
      "text/plain": [
       "False"
      ]
     },
     "metadata": {},
     "execution_count": 4
    }
   ],
   "metadata": {}
  },
  {
   "cell_type": "code",
   "execution_count": 30,
   "source": [
    "class Solution:\r\n",
    "    \"\"\"\r\n",
    "    Int approach\r\n",
    "    \"\"\"\r\n",
    "    def isPalindrome(self, x: int) -> bool:\r\n",
    "        if (x < 0 or (x % 10 == 0 and x != 0)):\r\n",
    "            return False\r\n",
    "        temp = x\r\n",
    "        palindrome = 0\r\n",
    "        while temp > 0:\r\n",
    "            temp, digits = divmod(temp, 10)\r\n",
    "            palindrome = palindrome * 10 + digits\r\n",
    "        return x == palindrome or x == palindrome/10"
   ],
   "outputs": [],
   "metadata": {}
  },
  {
   "cell_type": "code",
   "execution_count": 35,
   "source": [
    "solution = Solution()\r\n",
    "solution.isPalindrome(1233321)"
   ],
   "outputs": [
    {
     "output_type": "stream",
     "name": "stdout",
     "text": [
      "False\n"
     ]
    },
    {
     "output_type": "execute_result",
     "data": {
      "text/plain": [
       "True"
      ]
     },
     "metadata": {},
     "execution_count": 35
    }
   ],
   "metadata": {}
  },
  {
   "cell_type": "code",
   "execution_count": null,
   "source": [],
   "outputs": [],
   "metadata": {}
  }
 ],
 "metadata": {
  "orig_nbformat": 4,
  "language_info": {
   "name": "python",
   "version": "3.8.3",
   "mimetype": "text/x-python",
   "codemirror_mode": {
    "name": "ipython",
    "version": 3
   },
   "pygments_lexer": "ipython3",
   "nbconvert_exporter": "python",
   "file_extension": ".py"
  },
  "kernelspec": {
   "name": "python3",
   "display_name": "Python 3.8.3 64-bit ('base': conda)"
  },
  "interpreter": {
   "hash": "318358cca711dfbc264410b226aa7c628b8407a12b94d28436652763d1fa5a27"
  }
 },
 "nbformat": 4,
 "nbformat_minor": 2
}