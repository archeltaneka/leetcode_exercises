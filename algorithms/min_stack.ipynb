{
 "cells": [
  {
   "cell_type": "code",
   "execution_count": 14,
   "source": [
    "class MinStack:\r\n",
    "\r\n",
    "    def __init__(self):\r\n",
    "        self.stack = []\r\n",
    "\r\n",
    "    def push(self, val: int) -> None:\r\n",
    "        return self.stack.append(val)\r\n",
    "\r\n",
    "    def pop(self) -> None:\r\n",
    "        return self.stack.pop()\r\n",
    "\r\n",
    "    def top(self) -> int:\r\n",
    "        return self.stack[-1]\r\n",
    "\r\n",
    "    def getMin(self) -> int:\r\n",
    "        return min(self.stack)"
   ],
   "outputs": [],
   "metadata": {}
  },
  {
   "cell_type": "code",
   "execution_count": null,
   "source": [],
   "outputs": [],
   "metadata": {}
  }
 ],
 "metadata": {
  "orig_nbformat": 4,
  "language_info": {
   "name": "python",
   "version": "3.8.3",
   "mimetype": "text/x-python",
   "codemirror_mode": {
    "name": "ipython",
    "version": 3
   },
   "pygments_lexer": "ipython3",
   "nbconvert_exporter": "python",
   "file_extension": ".py"
  },
  "kernelspec": {
   "name": "python3",
   "display_name": "Python 3.8.3 64-bit ('base': conda)"
  },
  "interpreter": {
   "hash": "318358cca711dfbc264410b226aa7c628b8407a12b94d28436652763d1fa5a27"
  }
 },
 "nbformat": 4,
 "nbformat_minor": 2
}