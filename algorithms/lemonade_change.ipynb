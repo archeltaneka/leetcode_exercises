{
 "cells": [
  {
   "cell_type": "code",
   "execution_count": 14,
   "metadata": {},
   "outputs": [],
   "source": [
    "class Solution:\n",
    "    def lemonadeChange(self, bills) -> bool:\n",
    "        change = []\n",
    "        for b in bills:\n",
    "            if b == 5:\n",
    "                change.append(b)\n",
    "            elif b == 10:\n",
    "                if change.count(5) > 0:\n",
    "                    change.remove(5)\n",
    "                    change.append(b)\n",
    "                else:\n",
    "                    return False\n",
    "            else:\n",
    "                if change.count(10) > 0 and change.count(5) > 0:\n",
    "                    change.remove(10)\n",
    "                    change.remove(5)\n",
    "                    change.append(b)\n",
    "                elif change.count(5) >= 3:\n",
    "                    change.append(b)\n",
    "                    for _ in range(3):\n",
    "                        change.remove(5)\n",
    "                else:\n",
    "                    return False\n",
    "        return True"
   ]
  },
  {
   "cell_type": "code",
   "execution_count": 15,
   "metadata": {},
   "outputs": [
    {
     "data": {
      "text/plain": [
       "True"
      ]
     },
     "execution_count": 15,
     "metadata": {},
     "output_type": "execute_result"
    }
   ],
   "source": [
    "solution = Solution()\n",
    "solution.lemonadeChange([5,5,5,10,20])"
   ]
  },
  {
   "cell_type": "code",
   "execution_count": null,
   "metadata": {},
   "outputs": [],
   "source": []
  }
 ],
 "metadata": {
  "interpreter": {
   "hash": "318358cca711dfbc264410b226aa7c628b8407a12b94d28436652763d1fa5a27"
  },
  "kernelspec": {
   "display_name": "Python 3.8.3 64-bit ('base': conda)",
   "language": "python",
   "name": "python3"
  },
  "language_info": {
   "codemirror_mode": {
    "name": "ipython",
    "version": 3
   },
   "file_extension": ".py",
   "mimetype": "text/x-python",
   "name": "python",
   "nbconvert_exporter": "python",
   "pygments_lexer": "ipython3",
   "version": "3.8.3"
  },
  "orig_nbformat": 4
 },
 "nbformat": 4,
 "nbformat_minor": 2
}
