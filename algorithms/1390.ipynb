{
 "cells": [
  {
   "cell_type": "code",
   "execution_count": 62,
   "metadata": {},
   "outputs": [],
   "source": [
    "class Solution:\n",
    "    def freqAlphabets(self, s: str) -> str:\n",
    "        t = 'abcdefghijklmnopqrstuvwxyz'\n",
    "        ans = ''\n",
    "        idx = 0\n",
    "        while idx < len(s):\n",
    "            if idx == len(s)-2:\n",
    "                temp = s[idx:]\n",
    "                for c in temp:\n",
    "                    if c == '#':\n",
    "                        continue\n",
    "                    ans += t[int(c)-1]\n",
    "                break\n",
    "            if s[idx] == '#':\n",
    "                idx += 1\n",
    "                continue\n",
    "            if s[idx+2] == '#':\n",
    "                i = s[idx:idx+2]\n",
    "                ans += t[int(i)-1]\n",
    "                idx += 2\n",
    "            else:\n",
    "                ans += t[int(s[idx])-1]\n",
    "                idx += 1   \n",
    "        return ans\n"
   ]
  },
  {
   "cell_type": "code",
   "execution_count": 63,
   "metadata": {},
   "outputs": [
    {
     "data": {
      "text/plain": [
       "'jkab'"
      ]
     },
     "execution_count": 63,
     "metadata": {},
     "output_type": "execute_result"
    }
   ],
   "source": [
    "solution = Solution()\n",
    "solution.freqAlphabets(s = \"10#11#12\")"
   ]
  },
  {
   "cell_type": "code",
   "execution_count": null,
   "metadata": {},
   "outputs": [],
   "source": []
  }
 ],
 "metadata": {
  "interpreter": {
   "hash": "318358cca711dfbc264410b226aa7c628b8407a12b94d28436652763d1fa5a27"
  },
  "kernelspec": {
   "display_name": "Python 3.8.3 ('base')",
   "language": "python",
   "name": "python3"
  },
  "language_info": {
   "codemirror_mode": {
    "name": "ipython",
    "version": 3
   },
   "file_extension": ".py",
   "mimetype": "text/x-python",
   "name": "python",
   "nbconvert_exporter": "python",
   "pygments_lexer": "ipython3",
   "version": "3.8.3"
  },
  "orig_nbformat": 4
 },
 "nbformat": 4,
 "nbformat_minor": 2
}
