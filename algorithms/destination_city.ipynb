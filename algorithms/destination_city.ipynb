{
 "cells": [
  {
   "cell_type": "code",
   "execution_count": 83,
   "metadata": {},
   "outputs": [],
   "source": [
    "class Solution:\n",
    "    def destCity(self, paths) -> str:\n",
    "        terminal = {}\n",
    "        for p in paths:\n",
    "            terminal[p[0]] = p[1]\n",
    "        i = 0\n",
    "        start = paths[i][0]\n",
    "        dest = terminal[start]\n",
    "        i += 1\n",
    "        while i < len(terminal) and dest in terminal.keys() :\n",
    "            start = paths[i][0]\n",
    "            dest = terminal[start]\n",
    "            i += 1\n",
    "        return dest"
   ]
  },
  {
   "cell_type": "code",
   "execution_count": 85,
   "metadata": {},
   "outputs": [
    {
     "data": {
      "text/plain": [
       "'OAxMijOZgW'"
      ]
     },
     "execution_count": 85,
     "metadata": {},
     "output_type": "execute_result"
    }
   ],
   "source": [
    "solution = Solution()\n",
    "solution.destCity([[\"qMTSlfgZlC\",\"ePvzZaqLXj\"],[\"xKhZXfuBeC\",\"TtnllZpKKg\"],[\"ePvzZaqLXj\",\"sxrvXFcqgG\"],[\"sxrvXFcqgG\",\"xKhZXfuBeC\"],[\"TtnllZpKKg\",\"OAxMijOZgW\"]])"
   ]
  },
  {
   "cell_type": "code",
   "execution_count": null,
   "metadata": {},
   "outputs": [],
   "source": []
  }
 ],
 "metadata": {
  "interpreter": {
   "hash": "318358cca711dfbc264410b226aa7c628b8407a12b94d28436652763d1fa5a27"
  },
  "kernelspec": {
   "display_name": "Python 3.8.3 ('base')",
   "language": "python",
   "name": "python3"
  },
  "language_info": {
   "codemirror_mode": {
    "name": "ipython",
    "version": 3
   },
   "file_extension": ".py",
   "mimetype": "text/x-python",
   "name": "python",
   "nbconvert_exporter": "python",
   "pygments_lexer": "ipython3",
   "version": "3.8.3"
  },
  "orig_nbformat": 4
 },
 "nbformat": 4,
 "nbformat_minor": 2
}
