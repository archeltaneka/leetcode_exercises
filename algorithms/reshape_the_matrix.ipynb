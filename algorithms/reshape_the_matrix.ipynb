{
 "cells": [
  {
   "cell_type": "code",
   "execution_count": 127,
   "metadata": {},
   "outputs": [],
   "source": [
    "class Solution:\n",
    "    def matrixReshape(self, mat, r: int, c: int):\n",
    "        if r * c != len(mat) * len(mat[0]):\n",
    "            return mat\n",
    "        ans = []\n",
    "        for i in range(r):\n",
    "            ans.append([])\n",
    "            for j in range(c):\n",
    "                ans[i].append(0)\n",
    "        r_idx, c_idx = 0, 0\n",
    "        for i in range(len(mat)):\n",
    "            for j in range(len(mat[i])):\n",
    "                ans[r_idx][c_idx] = mat[i][j]\n",
    "                c_idx += 1\n",
    "                if c_idx == c:\n",
    "                    c_idx = 0\n",
    "                    r_idx += 1\n",
    "        return ans\n"
   ]
  },
  {
   "cell_type": "code",
   "execution_count": 128,
   "metadata": {},
   "outputs": [
    {
     "data": {
      "text/plain": [
       "[[1, 2, 3], [4, 5, 6]]"
      ]
     },
     "execution_count": 128,
     "metadata": {},
     "output_type": "execute_result"
    }
   ],
   "source": [
    "solution = Solution()\n",
    "solution.matrixReshape(mat = [[1,2],[3,4],[5,6]], r = 2, c = 3)"
   ]
  }
 ],
 "metadata": {
  "interpreter": {
   "hash": "318358cca711dfbc264410b226aa7c628b8407a12b94d28436652763d1fa5a27"
  },
  "kernelspec": {
   "display_name": "Python 3.8.3 64-bit ('base': conda)",
   "language": "python",
   "name": "python3"
  },
  "language_info": {
   "codemirror_mode": {
    "name": "ipython",
    "version": 3
   },
   "file_extension": ".py",
   "mimetype": "text/x-python",
   "name": "python",
   "nbconvert_exporter": "python",
   "pygments_lexer": "ipython3",
   "version": "3.8.3"
  },
  "orig_nbformat": 4
 },
 "nbformat": 4,
 "nbformat_minor": 2
}
