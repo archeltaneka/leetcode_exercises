{
 "cells": [
  {
   "cell_type": "code",
   "execution_count": 24,
   "metadata": {},
   "outputs": [],
   "source": [
    "class Solution:\n",
    "    def updateMatrix(self, mat):\n",
    "        queue = []\n",
    "        visited = set()\n",
    "        ans = [[0 for _ in range(len(mat[0]))] for _ in range(len(mat))]\n",
    "        for i in range(len(mat)):\n",
    "            for j in range(len(mat[i])):\n",
    "                if mat[i][j] == 0:\n",
    "                    queue.append((i,j))\n",
    "        dist = 0\n",
    "        while queue:\n",
    "            for i in range(len(queue)):\n",
    "                r, c = queue.pop(0)\n",
    "                if (r, c) not in visited:\n",
    "                    visited.add((r,c))\n",
    "                for x, y in [(r,c+1), (r,c-1), (r+1,c), (r-1,c)]:\n",
    "                    if 0 <= x < len(mat) and 0 <= y < len(mat[0]) and (x, y) not in visited and mat[x][y] == 1:\n",
    "                        ans[x][y] = dist + 1\n",
    "                        visited.add((x, y))\n",
    "                        queue.append((x, y))\n",
    "            dist += 1\n",
    "        return ans"
   ]
  },
  {
   "cell_type": "code",
   "execution_count": 26,
   "metadata": {},
   "outputs": [
    {
     "data": {
      "text/plain": [
       "[[0], [0], [0], [0], [0]]"
      ]
     },
     "execution_count": 26,
     "metadata": {},
     "output_type": "execute_result"
    }
   ],
   "source": [
    "solution = Solution()\n",
    "solution.updateMatrix(mat = [[0],[0],[0],[0],[0]])"
   ]
  },
  {
   "cell_type": "code",
   "execution_count": null,
   "metadata": {},
   "outputs": [],
   "source": []
  }
 ],
 "metadata": {
  "interpreter": {
   "hash": "318358cca711dfbc264410b226aa7c628b8407a12b94d28436652763d1fa5a27"
  },
  "kernelspec": {
   "display_name": "Python 3.8.3 64-bit ('base': conda)",
   "language": "python",
   "name": "python3"
  },
  "language_info": {
   "codemirror_mode": {
    "name": "ipython",
    "version": 3
   },
   "file_extension": ".py",
   "mimetype": "text/x-python",
   "name": "python",
   "nbconvert_exporter": "python",
   "pygments_lexer": "ipython3",
   "version": "3.8.3"
  },
  "orig_nbformat": 4
 },
 "nbformat": 4,
 "nbformat_minor": 2
}
