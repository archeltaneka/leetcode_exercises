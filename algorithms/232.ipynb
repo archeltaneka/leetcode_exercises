{
 "cells": [
  {
   "cell_type": "code",
   "execution_count": 10,
   "metadata": {},
   "outputs": [
    {
     "name": "stdout",
     "output_type": "stream",
     "text": [
      "[1]\n",
      "[1, 2]\n",
      "[1, 2]\n",
      "[2]\n",
      "[2]\n"
     ]
    }
   ],
   "source": [
    "class MyQueue:\n",
    "\n",
    "    def __init__(self):\n",
    "        self.stack = []\n",
    "\n",
    "    def push(self, x: int) -> None:\n",
    "        self.stack.append(x)\n",
    "\n",
    "    def pop(self) -> int:\n",
    "        return self.stack.pop(0)\n",
    "\n",
    "    def peek(self) -> int:\n",
    "        return self.stack[0]\n",
    "\n",
    "    def empty(self) -> bool:\n",
    "        return True if len(self.stack) == 0 else False\n",
    "\n",
    "\n",
    "# Your MyQueue object will be instantiated and called as such:\n",
    "obj = MyQueue()\n",
    "obj.push(1)\n",
    "print(obj.stack)\n",
    "obj.push(2)\n",
    "print(obj.stack)\n",
    "obj.peek()\n",
    "print(obj.stack)\n",
    "obj.pop()\n",
    "print(obj.stack)\n",
    "obj.empty()\n",
    "print(obj.stack)"
   ]
  },
  {
   "cell_type": "code",
   "execution_count": null,
   "metadata": {},
   "outputs": [],
   "source": []
  }
 ],
 "metadata": {
  "interpreter": {
   "hash": "318358cca711dfbc264410b226aa7c628b8407a12b94d28436652763d1fa5a27"
  },
  "kernelspec": {
   "display_name": "Python 3.8.3 ('base')",
   "language": "python",
   "name": "python3"
  },
  "language_info": {
   "codemirror_mode": {
    "name": "ipython",
    "version": 3
   },
   "file_extension": ".py",
   "mimetype": "text/x-python",
   "name": "python",
   "nbconvert_exporter": "python",
   "pygments_lexer": "ipython3",
   "version": "3.8.3"
  },
  "orig_nbformat": 4
 },
 "nbformat": 4,
 "nbformat_minor": 2
}
