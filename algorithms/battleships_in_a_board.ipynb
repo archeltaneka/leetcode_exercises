{
 "cells": [
  {
   "cell_type": "code",
   "execution_count": 72,
   "metadata": {},
   "outputs": [],
   "source": [
    "class Solution:\n",
    "    def countBattleships(self, board) -> int:\n",
    "        stack = []\n",
    "        visited = set()\n",
    "        boats = []\n",
    "        for i in range(len(board)):\n",
    "            for j in range(len(board[i])):\n",
    "                if board[i][j] == 'X' and (i,j) not in visited:\n",
    "                    stack.append((i,j))\n",
    "                    visited.add((i,j))\n",
    "                    count = 0\n",
    "                    while stack:\n",
    "                        row, col = stack.pop()\n",
    "                        count += 1\n",
    "                        for x,y in [(row,col+1), (row,col-1), (row+1,col), (row-1,col)]:\n",
    "                            if (0 <= x < len(board)) and (0 <= y < len(board[0])) and board[x][y] == 'X' and (x,y) not in visited:\n",
    "                                stack.append((x,y))\n",
    "                                visited.add((x,y))\n",
    "                    boats.append(count)\n",
    "        return len(boats)"
   ]
  },
  {
   "cell_type": "code",
   "execution_count": 73,
   "metadata": {},
   "outputs": [
    {
     "data": {
      "text/plain": [
       "1"
      ]
     },
     "execution_count": 73,
     "metadata": {},
     "output_type": "execute_result"
    }
   ],
   "source": [
    "solution = Solution()\n",
    "solution.countBattleships(board = [[\"X\"]])"
   ]
  },
  {
   "cell_type": "code",
   "execution_count": null,
   "metadata": {},
   "outputs": [],
   "source": []
  }
 ],
 "metadata": {
  "interpreter": {
   "hash": "318358cca711dfbc264410b226aa7c628b8407a12b94d28436652763d1fa5a27"
  },
  "kernelspec": {
   "display_name": "Python 3.8.3 64-bit ('base': conda)",
   "language": "python",
   "name": "python3"
  },
  "language_info": {
   "codemirror_mode": {
    "name": "ipython",
    "version": 3
   },
   "file_extension": ".py",
   "mimetype": "text/x-python",
   "name": "python",
   "nbconvert_exporter": "python",
   "pygments_lexer": "ipython3",
   "version": "3.8.3"
  },
  "orig_nbformat": 4
 },
 "nbformat": 4,
 "nbformat_minor": 2
}
