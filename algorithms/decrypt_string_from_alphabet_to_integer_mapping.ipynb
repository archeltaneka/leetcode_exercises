{
 "cells": [
  {
   "cell_type": "code",
   "execution_count": 68,
   "metadata": {},
   "outputs": [],
   "source": [
    "class Solution:\n",
    "    def freqAlphabets(self, s: str) -> str:\n",
    "        digit_map = 'abcdefghijklmnopqrstuvwxyz'\n",
    "        i = 0\n",
    "        ans = ''\n",
    "        while i < len(s):\n",
    "            print(i)\n",
    "            if i == len(s) - 2:\n",
    "                idx = s[i:]\n",
    "                for j in idx:\n",
    "                    if j == '#':\n",
    "                        continue\n",
    "                    ans += digit_map[int(j)-1]\n",
    "                break\n",
    "            if s[i] == '#':\n",
    "                i += 1\n",
    "                continue\n",
    "            if s[i+2] == '#':\n",
    "                idx = s[i:i+2]\n",
    "                ans += digit_map[int(idx)-1]\n",
    "                i += 2\n",
    "            else:\n",
    "                ans += digit_map[int(s[i])-1]\n",
    "                i += 1    \n",
    "        return ans"
   ]
  },
  {
   "cell_type": "code",
   "execution_count": 69,
   "metadata": {},
   "outputs": [
    {
     "name": "stdout",
     "output_type": "stream",
     "text": [
      "0\n",
      "2\n",
      "3\n",
      "5\n",
      "6\n",
      "7\n",
      "9\n"
     ]
    },
    {
     "data": {
      "text/plain": [
       "'zkdre'"
      ]
     },
     "execution_count": 69,
     "metadata": {},
     "output_type": "execute_result"
    }
   ],
   "source": [
    "solution = Solution()\n",
    "solution.freqAlphabets(\"26#11#418#5\")"
   ]
  },
  {
   "cell_type": "code",
   "execution_count": null,
   "metadata": {},
   "outputs": [],
   "source": []
  }
 ],
 "metadata": {
  "interpreter": {
   "hash": "318358cca711dfbc264410b226aa7c628b8407a12b94d28436652763d1fa5a27"
  },
  "kernelspec": {
   "display_name": "Python 3.8.3 64-bit ('base': conda)",
   "language": "python",
   "name": "python3"
  },
  "language_info": {
   "codemirror_mode": {
    "name": "ipython",
    "version": 3
   },
   "file_extension": ".py",
   "mimetype": "text/x-python",
   "name": "python",
   "nbconvert_exporter": "python",
   "pygments_lexer": "ipython3",
   "version": "3.8.3"
  },
  "orig_nbformat": 4
 },
 "nbformat": 4,
 "nbformat_minor": 2
}
