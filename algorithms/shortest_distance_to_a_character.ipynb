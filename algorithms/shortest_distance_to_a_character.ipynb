{
 "cells": [
  {
   "cell_type": "code",
   "execution_count": 6,
   "metadata": {},
   "outputs": [],
   "source": [
    "import numpy as np\n",
    "class Solution:\n",
    "    def shortestToChar(self, s: str, c: str):\n",
    "        idxs = []\n",
    "        for i in range(len(s)):\n",
    "            if s[i] == c:\n",
    "                idxs.append(i)\n",
    "        ans = []\n",
    "        for i in range(len(s)):\n",
    "            shortest = np.inf\n",
    "            for j in idxs:\n",
    "                shortest = min(shortest, abs(i-j))\n",
    "            ans.append(shortest)\n",
    "\n",
    "        return ans"
   ]
  },
  {
   "cell_type": "code",
   "execution_count": 7,
   "metadata": {},
   "outputs": [
    {
     "data": {
      "text/plain": [
       "[3, 2, 1, 0, 1, 0, 0, 1, 2, 2, 1, 0]"
      ]
     },
     "execution_count": 7,
     "metadata": {},
     "output_type": "execute_result"
    }
   ],
   "source": [
    "solution = Solution()   \n",
    "solution.shortestToChar(s = \"loveleetcode\", c = \"e\")"
   ]
  },
  {
   "cell_type": "code",
   "execution_count": 20,
   "metadata": {},
   "outputs": [],
   "source": [
    "class Solution:\n",
    "    def shortestToChar(self, s: str, c: str):\n",
    "        distances = []\n",
    "        prev = float('inf')\n",
    "        for i in range(len(s)):\n",
    "            if s[i] == c:\n",
    "                prev = i\n",
    "            distances.append(abs(i - prev))\n",
    "        for i in range(len(s)-1, -1, -1):\n",
    "            if s[i] == c:\n",
    "                prev = i\n",
    "            distances[i] = min(distances[i], abs(i-prev))\n",
    "        return distances"
   ]
  },
  {
   "cell_type": "code",
   "execution_count": 21,
   "metadata": {},
   "outputs": [
    {
     "name": "stdout",
     "output_type": "stream",
     "text": [
      "[inf, inf, inf, 0, 1, 0, 0, 1, 2, 3, 4, 0]\n"
     ]
    },
    {
     "data": {
      "text/plain": [
       "[3, 2, 1, 0, 1, 0, 0, 1, 2, 2, 1, 0]"
      ]
     },
     "execution_count": 21,
     "metadata": {},
     "output_type": "execute_result"
    }
   ],
   "source": [
    "solution = Solution()   \n",
    "solution.shortestToChar(s = \"loveleetcode\", c = \"e\")"
   ]
  },
  {
   "cell_type": "code",
   "execution_count": null,
   "metadata": {},
   "outputs": [],
   "source": []
  }
 ],
 "metadata": {
  "interpreter": {
   "hash": "318358cca711dfbc264410b226aa7c628b8407a12b94d28436652763d1fa5a27"
  },
  "kernelspec": {
   "display_name": "Python 3.8.3 64-bit ('base': conda)",
   "language": "python",
   "name": "python3"
  },
  "language_info": {
   "codemirror_mode": {
    "name": "ipython",
    "version": 3
   },
   "file_extension": ".py",
   "mimetype": "text/x-python",
   "name": "python",
   "nbconvert_exporter": "python",
   "pygments_lexer": "ipython3",
   "version": "3.8.3"
  },
  "orig_nbformat": 4
 },
 "nbformat": 4,
 "nbformat_minor": 2
}
