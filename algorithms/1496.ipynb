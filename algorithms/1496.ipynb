{
 "cells": [
  {
   "cell_type": "code",
   "execution_count": 83,
   "metadata": {},
   "outputs": [],
   "source": [
    "class Solution:\n",
    "    def isPathCrossing(self, path: str) -> bool:\n",
    "        start = [0,0]\n",
    "        hist = [[0,0]]\n",
    "        for p in path:\n",
    "            if p == 'N':\n",
    "                start[1] += 1\n",
    "                # if start in hist:\n",
    "                #     return True\n",
    "            elif p == 'S':\n",
    "                start[1] -= 1\n",
    "                # if start in hist:\n",
    "                #     return True\n",
    "            elif p == 'E':\n",
    "                start[0] += 1\n",
    "                # if start in hist:\n",
    "                #     return True\n",
    "            elif p == 'W':\n",
    "                start[0] -= 1\n",
    "                # if start in hist:\n",
    "                #     return True\n",
    "            hist.append(start)\n",
    "            print(hist)\n",
    "        return False"
   ]
  },
  {
   "cell_type": "code",
   "execution_count": 84,
   "metadata": {},
   "outputs": [
    {
     "name": "stdout",
     "output_type": "stream",
     "text": [
      "[[0, 0], [0, 1]]\n",
      "[[0, 0], [1, 1], [1, 1]]\n",
      "[[0, 0], [1, 0], [1, 0], [1, 0]]\n"
     ]
    },
    {
     "data": {
      "text/plain": [
       "False"
      ]
     },
     "execution_count": 84,
     "metadata": {},
     "output_type": "execute_result"
    }
   ],
   "source": [
    "solution = Solution()\n",
    "solution.isPathCrossing(\"NES\")"
   ]
  },
  {
   "cell_type": "code",
   "execution_count": 68,
   "metadata": {},
   "outputs": [
    {
     "data": {
      "text/plain": [
       "True"
      ]
     },
     "execution_count": 68,
     "metadata": {},
     "output_type": "execute_result"
    }
   ],
   "source": [
    "[1,1] in [[0, 0], [0, 1]]"
   ]
  },
  {
   "cell_type": "code",
   "execution_count": null,
   "metadata": {},
   "outputs": [],
   "source": []
  }
 ],
 "metadata": {
  "interpreter": {
   "hash": "318358cca711dfbc264410b226aa7c628b8407a12b94d28436652763d1fa5a27"
  },
  "kernelspec": {
   "display_name": "Python 3.8.3 ('base')",
   "language": "python",
   "name": "python3"
  },
  "language_info": {
   "codemirror_mode": {
    "name": "ipython",
    "version": 3
   },
   "file_extension": ".py",
   "mimetype": "text/x-python",
   "name": "python",
   "nbconvert_exporter": "python",
   "pygments_lexer": "ipython3",
   "version": "3.8.3"
  },
  "orig_nbformat": 4
 },
 "nbformat": 4,
 "nbformat_minor": 2
}
