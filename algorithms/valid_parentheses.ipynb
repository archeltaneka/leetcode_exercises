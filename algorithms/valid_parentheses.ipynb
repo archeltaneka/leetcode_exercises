{
 "cells": [
  {
   "cell_type": "code",
   "execution_count": 69,
   "source": [
    "class Solution:\r\n",
    "    def isValid(self, s: str) -> bool:\r\n",
    "        parentheses = []\r\n",
    "        flag = False\r\n",
    "\r\n",
    "        for p in s:\r\n",
    "            if p == '(' or p == '[' or p == '{':\r\n",
    "                flag = True\r\n",
    "                parentheses.append(p)\r\n",
    "            else:\r\n",
    "                if len(parentheses) > 0:\r\n",
    "                    if not flag:\r\n",
    "                        return False\r\n",
    "                    else:\r\n",
    "                        if p == ')':\r\n",
    "                            if parentheses.pop() != '(':\r\n",
    "                                return False\r\n",
    "                        elif p == ']':\r\n",
    "                            if parentheses.pop() != '[':\r\n",
    "                                return False\r\n",
    "                        else:\r\n",
    "                            if parentheses.pop() != '{':\r\n",
    "                                return False\r\n",
    "                else:\r\n",
    "                    return False\r\n",
    "\r\n",
    "        if len(parentheses) == 0:\r\n",
    "            return True\r\n",
    "        else:\r\n",
    "            return False"
   ],
   "outputs": [],
   "metadata": {}
  },
  {
   "cell_type": "code",
   "execution_count": 70,
   "source": [
    "solution = Solution()\r\n",
    "solution.isValid(\"]\")"
   ],
   "outputs": [
    {
     "output_type": "execute_result",
     "data": {
      "text/plain": [
       "False"
      ]
     },
     "metadata": {},
     "execution_count": 70
    }
   ],
   "metadata": {}
  },
  {
   "cell_type": "code",
   "execution_count": null,
   "source": [],
   "outputs": [],
   "metadata": {}
  }
 ],
 "metadata": {
  "orig_nbformat": 4,
  "language_info": {
   "name": "python",
   "version": "3.8.3",
   "mimetype": "text/x-python",
   "codemirror_mode": {
    "name": "ipython",
    "version": 3
   },
   "pygments_lexer": "ipython3",
   "nbconvert_exporter": "python",
   "file_extension": ".py"
  },
  "kernelspec": {
   "name": "python3",
   "display_name": "Python 3.8.3 64-bit ('base': conda)"
  },
  "interpreter": {
   "hash": "318358cca711dfbc264410b226aa7c628b8407a12b94d28436652763d1fa5a27"
  }
 },
 "nbformat": 4,
 "nbformat_minor": 2
}