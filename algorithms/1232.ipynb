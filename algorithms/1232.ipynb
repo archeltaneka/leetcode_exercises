{
 "cells": [
  {
   "cell_type": "code",
   "execution_count": 2,
   "metadata": {},
   "outputs": [],
   "source": [
    "class Solution:\n",
    "    def checkStraightLine(self, coordinates) -> bool:\n",
    "        if coordinates[1][0] - coordinates[0][0] == 0:\n",
    "            m = float('inf')\n",
    "        else:\n",
    "            delta_y = coordinates[1][1] - coordinates[0][1]\n",
    "            delta_x = coordinates[1][0] - coordinates[0][0]\n",
    "            m = delta_y / delta_x\n",
    "        for i in range(2, len(coordinates)):\n",
    "            if coordinates[i][0] - coordinates[i-1][0] == 0:\n",
    "                next_m = float('inf')\n",
    "            else:\n",
    "                next_delta_y = coordinates[i][1] - coordinates[i-1][1]\n",
    "                next_delta_x = coordinates[i][0] - coordinates[i-1][0]\n",
    "                next_m = next_delta_y / next_delta_x\n",
    "            if m != next_m:\n",
    "                return False\n",
    "        return True"
   ]
  },
  {
   "cell_type": "code",
   "execution_count": 3,
   "metadata": {},
   "outputs": [
    {
     "data": {
      "text/plain": [
       "True"
      ]
     },
     "execution_count": 3,
     "metadata": {},
     "output_type": "execute_result"
    }
   ],
   "source": [
    "solution = Solution()\n",
    "solution.checkStraightLine([[1,2],[2,3],[3,4],[4,5],[5,6],[6,7]])"
   ]
  },
  {
   "cell_type": "code",
   "execution_count": null,
   "metadata": {},
   "outputs": [],
   "source": []
  }
 ],
 "metadata": {
  "interpreter": {
   "hash": "318358cca711dfbc264410b226aa7c628b8407a12b94d28436652763d1fa5a27"
  },
  "kernelspec": {
   "display_name": "Python 3.8.3 ('base')",
   "language": "python",
   "name": "python3"
  },
  "language_info": {
   "codemirror_mode": {
    "name": "ipython",
    "version": 3
   },
   "file_extension": ".py",
   "mimetype": "text/x-python",
   "name": "python",
   "nbconvert_exporter": "python",
   "pygments_lexer": "ipython3",
   "version": "3.8.3"
  },
  "orig_nbformat": 4
 },
 "nbformat": 4,
 "nbformat_minor": 2
}
