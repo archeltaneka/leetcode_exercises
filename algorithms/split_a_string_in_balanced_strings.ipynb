{
 "cells": [
  {
   "cell_type": "code",
   "execution_count": 5,
   "metadata": {},
   "outputs": [],
   "source": [
    "class Solution:\n",
    "    def balancedStringSplit(self, s: str) -> int:\n",
    "        ans = 0\n",
    "        balance = 0\n",
    "        for c in s:\n",
    "            if c == 'R':\n",
    "                balance += 1\n",
    "            else:\n",
    "                balance -= 1\n",
    "            if balance == 0:\n",
    "                ans += 1\n",
    "        return ans"
   ]
  },
  {
   "cell_type": "code",
   "execution_count": 8,
   "metadata": {},
   "outputs": [
    {
     "data": {
      "text/plain": [
       "4"
      ]
     },
     "execution_count": 8,
     "metadata": {},
     "output_type": "execute_result"
    }
   ],
   "source": [
    "solution = Solution()\n",
    "solution.balancedStringSplit(\"RLRRLLRLRL\")"
   ]
  },
  {
   "cell_type": "code",
   "execution_count": null,
   "metadata": {},
   "outputs": [],
   "source": [
    "class Solution:\n",
    "    \"\"\"\n",
    "    With dict\n",
    "    \"\"\"\n",
    "    def balancedStringSplit(self, s: str) -> int:\n",
    "        cnt = {'R': 0, 'L': 0}\n",
    "        ans = 0\n",
    "        for c in s:\n",
    "            cnt[c] += 1\n",
    "            if cnt['R'] == cnt['L']:\n",
    "                ans += 1\n",
    "                cnt = {'R': 0, 'L': 0}\n",
    "        return ans"
   ]
  }
 ],
 "metadata": {
  "interpreter": {
   "hash": "318358cca711dfbc264410b226aa7c628b8407a12b94d28436652763d1fa5a27"
  },
  "kernelspec": {
   "display_name": "Python 3.8.3 64-bit ('base': conda)",
   "language": "python",
   "name": "python3"
  },
  "language_info": {
   "codemirror_mode": {
    "name": "ipython",
    "version": 3
   },
   "file_extension": ".py",
   "mimetype": "text/x-python",
   "name": "python",
   "nbconvert_exporter": "python",
   "pygments_lexer": "ipython3",
   "version": "3.8.3"
  },
  "orig_nbformat": 4
 },
 "nbformat": 4,
 "nbformat_minor": 2
}
