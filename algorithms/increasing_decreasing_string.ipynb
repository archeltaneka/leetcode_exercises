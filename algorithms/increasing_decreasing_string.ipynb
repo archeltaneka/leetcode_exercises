{
 "cells": [
  {
   "cell_type": "code",
   "execution_count": 1,
   "metadata": {},
   "outputs": [],
   "source": [
    "class Solution:\n",
    "    def sortString(self, s: str) -> str:\n",
    "        cnt = {}\n",
    "        ans = ''\n",
    "        for c in s:\n",
    "            if c in cnt:\n",
    "                cnt[c] += 1\n",
    "            else:\n",
    "                cnt[c] = 1\n",
    "        while sum(cnt.values()) > 0:\n",
    "            cnt = {k: v for k, v in sorted(cnt.items())}\n",
    "            for k in cnt.keys():\n",
    "                if cnt[k] > 0:\n",
    "                    ans += k\n",
    "                    cnt[k] -= 1\n",
    "            cnt = {k: v for k, v in sorted(cnt.items(), reverse=True)}\n",
    "            for k in cnt.keys():\n",
    "                if cnt[k] > 0:\n",
    "                    ans += k\n",
    "                    cnt[k] -= 1\n",
    "        return ans"
   ]
  },
  {
   "cell_type": "code",
   "execution_count": null,
   "metadata": {},
   "outputs": [],
   "source": []
  }
 ],
 "metadata": {
  "interpreter": {
   "hash": "318358cca711dfbc264410b226aa7c628b8407a12b94d28436652763d1fa5a27"
  },
  "kernelspec": {
   "display_name": "Python 3.8.3 ('base')",
   "language": "python",
   "name": "python3"
  },
  "language_info": {
   "codemirror_mode": {
    "name": "ipython",
    "version": 3
   },
   "file_extension": ".py",
   "mimetype": "text/x-python",
   "name": "python",
   "nbconvert_exporter": "python",
   "pygments_lexer": "ipython3",
   "version": "3.8.3"
  },
  "orig_nbformat": 4
 },
 "nbformat": 4,
 "nbformat_minor": 2
}
