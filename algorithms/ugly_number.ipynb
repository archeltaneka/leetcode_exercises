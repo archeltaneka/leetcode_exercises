{
 "cells": [
  {
   "cell_type": "code",
   "execution_count": 74,
   "metadata": {},
   "outputs": [],
   "source": [
    "import math\n",
    "class Solution:\n",
    "    \"\"\"\n",
    "    Calculating prime numbers\n",
    "    \"\"\"\n",
    "    def isUgly(self, n: int) -> bool:\n",
    "        if n <= 0:\n",
    "            return False\n",
    "        elif n == 1:\n",
    "            return True\n",
    "\n",
    "        primes = []\n",
    "        while(n % 2 == 0):\n",
    "            if 2 not in primes:\n",
    "                primes.append(2)\n",
    "            n /= 2\n",
    "        for i in range(3, int(math.sqrt(n))+1, 2):\n",
    "            while(n % i == 0):\n",
    "                if i not in primes:\n",
    "                    primes.append(i)\n",
    "                n /= i\n",
    "        if n > 2:\n",
    "            primes.append(int(n))\n",
    "\n",
    "        return (2 in primes or 3 in primes or 5 in primes) and max(primes) <= 5"
   ]
  },
  {
   "cell_type": "code",
   "execution_count": 78,
   "metadata": {},
   "outputs": [
    {
     "data": {
      "text/plain": [
       "True"
      ]
     },
     "execution_count": 78,
     "metadata": {},
     "output_type": "execute_result"
    }
   ],
   "source": [
    "solution = Solution()\n",
    "solution.isUgly(25)"
   ]
  },
  {
   "cell_type": "code",
   "execution_count": 81,
   "metadata": {},
   "outputs": [],
   "source": [
    "class Solution:\n",
    "    \"\"\"\n",
    "    Simpler Solution\n",
    "    \"\"\"\n",
    "    def isUgly(self, n: int) -> bool:\n",
    "        if n == 0:\n",
    "            return False\n",
    "        elif n == 1:\n",
    "            return True\n",
    "\n",
    "        divided_by_2 = False\n",
    "        if n % 2 == 0:\n",
    "            divided_by_2 = self.isUgly(n//2) \n",
    "        if divided_by_2 == True:\n",
    "            return True\n",
    "\n",
    "        divided_by_3 = False\n",
    "        if n % 3 == 0:\n",
    "            divided_by_3 = self.isUgly(n//3)\n",
    "        if divided_by_3 == True:\n",
    "            return True\n",
    "\n",
    "        divided_by_5 = False\n",
    "        if n % 5 == 0:\n",
    "            divided_by_5 = self.isUgly(n//5)\n",
    "        if divided_by_5 == True:\n",
    "            return True\n",
    "\n",
    "        return False"
   ]
  },
  {
   "cell_type": "code",
   "execution_count": 84,
   "metadata": {},
   "outputs": [
    {
     "data": {
      "text/plain": [
       "False"
      ]
     },
     "execution_count": 84,
     "metadata": {},
     "output_type": "execute_result"
    }
   ],
   "source": [
    "solution = Solution()\n",
    "solution.isUgly(19)"
   ]
  },
  {
   "cell_type": "code",
   "execution_count": null,
   "metadata": {},
   "outputs": [],
   "source": []
  }
 ],
 "metadata": {
  "interpreter": {
   "hash": "318358cca711dfbc264410b226aa7c628b8407a12b94d28436652763d1fa5a27"
  },
  "kernelspec": {
   "display_name": "Python 3.8.3 64-bit ('base': conda)",
   "name": "python3"
  },
  "language_info": {
   "codemirror_mode": {
    "name": "ipython",
    "version": 3
   },
   "file_extension": ".py",
   "mimetype": "text/x-python",
   "name": "python",
   "nbconvert_exporter": "python",
   "pygments_lexer": "ipython3",
   "version": "3.8.3"
  },
  "orig_nbformat": 4
 },
 "nbformat": 4,
 "nbformat_minor": 2
}
