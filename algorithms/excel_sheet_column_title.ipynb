{
 "cells": [
  {
   "cell_type": "code",
   "execution_count": 92,
   "metadata": {},
   "outputs": [],
   "source": [
    "class Solution:\n",
    "    def convertToTitle(self, columnNumber: int) -> str:\n",
    "        multiplier = 31\n",
    "        letters = 'ZYXWVUTSRQPONMLKJIHGFEDCBA'\n",
    "        ans = ''\n",
    "        if columnNumber <= 26:\n",
    "            for l in letters:\n",
    "                if (ord(l)-ord('A')+1) == columnNumber:\n",
    "                    return l\n",
    "        while columnNumber > 0 and multiplier >= 0:\n",
    "            for l in letters:\n",
    "                if (ord(l)-ord('A')+1) * (26 ** multiplier) <= columnNumber:\n",
    "                    print(l)\n",
    "                    print((ord(l)-ord('A')+1) * (26 ** multiplier))\n",
    "                    columnNumber -= (ord(l)-ord('A')+1) * (26 ** multiplier)\n",
    "                    ans += l\n",
    "            multiplier -= 1\n",
    "        return ans"
   ]
  },
  {
   "cell_type": "code",
   "execution_count": 93,
   "metadata": {},
   "outputs": [
    {
     "name": "stdout",
     "output_type": "stream",
     "text": [
      "A\n",
      "676\n",
      "Y\n",
      "25\n"
     ]
    },
    {
     "data": {
      "text/plain": [
       "'AY'"
      ]
     },
     "execution_count": 93,
     "metadata": {},
     "output_type": "execute_result"
    }
   ],
   "source": [
    "solution = Solution()\n",
    "solution.convertToTitle(701)"
   ]
  },
  {
   "cell_type": "code",
   "execution_count": null,
   "metadata": {},
   "outputs": [],
   "source": []
  }
 ],
 "metadata": {
  "interpreter": {
   "hash": "318358cca711dfbc264410b226aa7c628b8407a12b94d28436652763d1fa5a27"
  },
  "kernelspec": {
   "display_name": "Python 3.8.3 ('base')",
   "language": "python",
   "name": "python3"
  },
  "language_info": {
   "codemirror_mode": {
    "name": "ipython",
    "version": 3
   },
   "file_extension": ".py",
   "mimetype": "text/x-python",
   "name": "python",
   "nbconvert_exporter": "python",
   "pygments_lexer": "ipython3",
   "version": "3.8.3"
  },
  "orig_nbformat": 4
 },
 "nbformat": 4,
 "nbformat_minor": 2
}
