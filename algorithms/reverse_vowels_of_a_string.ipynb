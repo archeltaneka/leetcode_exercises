{
 "cells": [
  {
   "cell_type": "code",
   "execution_count": 13,
   "metadata": {},
   "outputs": [],
   "source": [
    "class Solution:\n",
    "    def reverseVowels(self, s: str) -> str:\n",
    "        vowels = ['a', 'i', 'u', 'e', 'o', 'A', 'I', 'U', 'E', 'O']\n",
    "        idx = []\n",
    "        ans = ''\n",
    "        for i in range(len(s)-1, -1, -1):\n",
    "            if s[i] in vowels:\n",
    "                idx.append(i)\n",
    "        temp = 0\n",
    "        for i in range(len(s)):\n",
    "            if s[i] not in vowels:\n",
    "                ans += s[i]\n",
    "            else:\n",
    "                ans += s[idx[temp]]\n",
    "                temp += 1\n",
    "        \n",
    "        return ans\n",
    "            "
   ]
  },
  {
   "cell_type": "code",
   "execution_count": 15,
   "metadata": {},
   "outputs": [
    {
     "data": {
      "text/plain": [
       "'Aa'"
      ]
     },
     "execution_count": 15,
     "metadata": {},
     "output_type": "execute_result"
    }
   ],
   "source": [
    "solution = Solution()\n",
    "solution.reverseVowels('aA')"
   ]
  },
  {
   "cell_type": "code",
   "execution_count": 21,
   "metadata": {},
   "outputs": [],
   "source": [
    "class Solution:\n",
    "    \"\"\"\n",
    "    Faster solution - 2 pointers\n",
    "    \"\"\"\n",
    "    def reverseVowels(self, s: str) -> str:\n",
    "        temp = list(s)\n",
    "        vowels = 'aiueoAIUEO'\n",
    "        left = 0\n",
    "        right = len(temp)-1\n",
    "\n",
    "        while(left < right):\n",
    "\n",
    "            if temp[left] not in vowels:\n",
    "                left += 1\n",
    "            elif temp[right] not in vowels:\n",
    "                right -= 1\n",
    "            else:\n",
    "                temp[left], temp[right] = temp[right], temp[left]\n",
    "                left += 1\n",
    "                right -= 1\n",
    "\n",
    "        return ''.join(temp)\n",
    "            "
   ]
  },
  {
   "cell_type": "code",
   "execution_count": 23,
   "metadata": {},
   "outputs": [
    {
     "data": {
      "text/plain": [
       "'leotcede'"
      ]
     },
     "execution_count": 23,
     "metadata": {},
     "output_type": "execute_result"
    }
   ],
   "source": [
    "solution = Solution()\n",
    "solution.reverseVowels('leetcode')"
   ]
  },
  {
   "cell_type": "code",
   "execution_count": null,
   "metadata": {},
   "outputs": [],
   "source": []
  }
 ],
 "metadata": {
  "interpreter": {
   "hash": "318358cca711dfbc264410b226aa7c628b8407a12b94d28436652763d1fa5a27"
  },
  "kernelspec": {
   "display_name": "Python 3.8.3 64-bit ('base': conda)",
   "name": "python3"
  },
  "language_info": {
   "codemirror_mode": {
    "name": "ipython",
    "version": 3
   },
   "file_extension": ".py",
   "mimetype": "text/x-python",
   "name": "python",
   "nbconvert_exporter": "python",
   "pygments_lexer": "ipython3",
   "version": "3.8.3"
  },
  "orig_nbformat": 4
 },
 "nbformat": 4,
 "nbformat_minor": 2
}
