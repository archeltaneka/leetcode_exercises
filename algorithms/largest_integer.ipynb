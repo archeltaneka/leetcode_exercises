{
 "cells": [
  {
   "cell_type": "code",
   "execution_count": 16,
   "source": [
    "class Solution:\r\n",
    "    def largestInteger(self,num):\r\n",
    "        str_num = str(num)\r\n",
    "        numbers = []\r\n",
    "        idxs = []\r\n",
    "        temp = ''\r\n",
    "        count = 0\r\n",
    "\r\n",
    "        for i in range(len(str_num)):\r\n",
    "            if str_num[i] == '5': \r\n",
    "                count += 1\r\n",
    "                idxs.append(i)\r\n",
    "\r\n",
    "        for i in idxs:\r\n",
    "            temp = str_num[:i] + str_num[i+1:]\r\n",
    "            numbers.append(int(temp))\r\n",
    "\r\n",
    "        numbers = sorted(numbers, reverse=True)\r\n",
    "        print(numbers)\r\n",
    "        return numbers[0]\r\n"
   ],
   "outputs": [],
   "metadata": {}
  },
  {
   "cell_type": "code",
   "execution_count": 17,
   "source": [
    "solution = Solution()\r\n",
    "solution.largestInteger(157059854)"
   ],
   "outputs": [
    {
     "output_type": "stream",
     "name": "stdout",
     "text": [
      "[17059854, 15709854, 15705984]\n"
     ]
    },
    {
     "output_type": "execute_result",
     "data": {
      "text/plain": [
       "17059854"
      ]
     },
     "metadata": {},
     "execution_count": 17
    }
   ],
   "metadata": {}
  },
  {
   "cell_type": "code",
   "execution_count": null,
   "source": [],
   "outputs": [],
   "metadata": {}
  }
 ],
 "metadata": {
  "orig_nbformat": 4,
  "language_info": {
   "name": "python",
   "version": "3.8.3",
   "mimetype": "text/x-python",
   "codemirror_mode": {
    "name": "ipython",
    "version": 3
   },
   "pygments_lexer": "ipython3",
   "nbconvert_exporter": "python",
   "file_extension": ".py"
  },
  "kernelspec": {
   "name": "python3",
   "display_name": "Python 3.8.3 64-bit ('base': conda)"
  },
  "interpreter": {
   "hash": "318358cca711dfbc264410b226aa7c628b8407a12b94d28436652763d1fa5a27"
  }
 },
 "nbformat": 4,
 "nbformat_minor": 2
}