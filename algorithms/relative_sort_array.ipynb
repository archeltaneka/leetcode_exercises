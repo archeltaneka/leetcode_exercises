{
 "cells": [
  {
   "cell_type": "code",
   "execution_count": null,
   "metadata": {},
   "outputs": [],
   "source": [
    "class Solution:\n",
    "    def relativeSortArray(self, arr1, arr2):\n",
    "        cnt = {}\n",
    "        for num in arr1:\n",
    "            if num not in cnt:\n",
    "                cnt[num] = 1\n",
    "            else:\n",
    "                cnt[num] += 1\n",
    "        arr = []\n",
    "        for num in arr2:\n",
    "            for _ in range(cnt[num]):\n",
    "                arr.append(num)\n",
    "            cnt[num] = 0\n",
    "        cnt = {k:v for k, v in sorted(cnt.items())}\n",
    "        for k, v in cnt.items():\n",
    "            if v != 0:\n",
    "                for _ in range(v):\n",
    "                    arr.append(k)\n",
    "        \n",
    "        return arr"
   ]
  }
 ],
 "metadata": {
  "interpreter": {
   "hash": "318358cca711dfbc264410b226aa7c628b8407a12b94d28436652763d1fa5a27"
  },
  "kernelspec": {
   "display_name": "Python 3.8.3 64-bit ('base': conda)",
   "language": "python",
   "name": "python3"
  },
  "language_info": {
   "name": "python",
   "version": "3.8.3"
  },
  "orig_nbformat": 4
 },
 "nbformat": 4,
 "nbformat_minor": 2
}
