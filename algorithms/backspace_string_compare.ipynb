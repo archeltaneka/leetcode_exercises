{
 "cells": [
  {
   "cell_type": "code",
   "execution_count": 17,
   "metadata": {},
   "outputs": [],
   "source": [
    "class Solution:\n",
    "    \"\"\"\n",
    "    Using 2 stacks\n",
    "    \"\"\"\n",
    "    def backspaceCompare(self, s: str, t: str) -> bool:\n",
    "        s1, s2 = [], []\n",
    "        for c in s:\n",
    "            if c != '#':\n",
    "                s1.append(c)\n",
    "            else:\n",
    "                if len(s1) == 0:\n",
    "                    continue\n",
    "                s1.pop()\n",
    "        for c in t:\n",
    "            if c != '#':\n",
    "                s2.append(c)\n",
    "            else:\n",
    "                if len(s2) == 0:\n",
    "                    continue\n",
    "                s2.pop()\n",
    "        \n",
    "        return s1 == s2"
   ]
  },
  {
   "cell_type": "code",
   "execution_count": 19,
   "metadata": {},
   "outputs": [
    {
     "data": {
      "text/plain": [
       "False"
      ]
     },
     "execution_count": 19,
     "metadata": {},
     "output_type": "execute_result"
    }
   ],
   "source": [
    "solution = Solution()\n",
    "solution.backspaceCompare(s = \"a#c\", t = \"b\")"
   ]
  },
  {
   "cell_type": "code",
   "execution_count": 40,
   "metadata": {},
   "outputs": [],
   "source": [
    "class Solution:\n",
    "    \"\"\"\n",
    "    Using 2 pointers\n",
    "    \"\"\"\n",
    "    def backspaceCompare(self, s: str, t: str) -> bool:\n",
    "        import itertools\n",
    "        def F(inp):\n",
    "            cnt = 0\n",
    "            for c in reversed(inp):\n",
    "                if c == '#':\n",
    "                    cnt += 1\n",
    "                elif cnt:\n",
    "                    cnt -= 1\n",
    "                else:\n",
    "                    yield c\n",
    "        \n",
    "        return all(a == b for a, b in itertools.zip_longest(F(s), F(t)))"
   ]
  },
  {
   "cell_type": "code",
   "execution_count": 41,
   "metadata": {},
   "outputs": [
    {
     "data": {
      "text/plain": [
       "False"
      ]
     },
     "execution_count": 41,
     "metadata": {},
     "output_type": "execute_result"
    }
   ],
   "source": [
    "solution = Solution()\n",
    "solution.backspaceCompare(s = \"a#c\", t = \"b\")"
   ]
  },
  {
   "cell_type": "code",
   "execution_count": 48,
   "metadata": {},
   "outputs": [
    {
     "name": "stdout",
     "output_type": "stream",
     "text": [
      "The combined values of iterables is  : \n",
      "['G', 'e', 's', 'o', 'G', 'e', 's']\n",
      "['e', 'k', 'f', 'r', 'e', 'k', '_']\n"
     ]
    }
   ],
   "source": [
    "import itertools  \n",
    "      \n",
    "# using zip_longest() to combine two iterables.  \n",
    "print (\"The combined values of iterables is  : \")  \n",
    "print ([a for a, b in itertools.zip_longest('GesoGes', 'ekfrek', fillvalue ='_' )])\n",
    "print ([b for a, b in itertools.zip_longest('GesoGes', 'ekfrek', fillvalue ='_' )])"
   ]
  },
  {
   "cell_type": "code",
   "execution_count": null,
   "metadata": {},
   "outputs": [],
   "source": []
  },
  {
   "cell_type": "code",
   "execution_count": null,
   "metadata": {},
   "outputs": [],
   "source": []
  }
 ],
 "metadata": {
  "interpreter": {
   "hash": "318358cca711dfbc264410b226aa7c628b8407a12b94d28436652763d1fa5a27"
  },
  "kernelspec": {
   "display_name": "Python 3.8.3 64-bit ('base': conda)",
   "language": "python",
   "name": "python3"
  },
  "language_info": {
   "codemirror_mode": {
    "name": "ipython",
    "version": 3
   },
   "file_extension": ".py",
   "mimetype": "text/x-python",
   "name": "python",
   "nbconvert_exporter": "python",
   "pygments_lexer": "ipython3",
   "version": "3.8.3"
  },
  "orig_nbformat": 4
 },
 "nbformat": 4,
 "nbformat_minor": 2
}
