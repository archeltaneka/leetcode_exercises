{
 "cells": [
  {
   "cell_type": "code",
   "execution_count": 60,
   "source": [
    "class Solution:\r\n",
    "    def canJump(self, nums) -> bool:\r\n",
    "        if len(nums) == 1:\r\n",
    "            return True\r\n",
    "\r\n",
    "        n = len(nums)-1\r\n",
    "        start = 0\r\n",
    "        jumps = 0\r\n",
    "        \r\n",
    "        while True:\r\n",
    "            if nums[start] == 0:\r\n",
    "                return False\r\n",
    "            jumps += nums[start]\r\n",
    "            if jumps > n:\r\n",
    "                return False\r\n",
    "            elif jumps == n:\r\n",
    "                return True\r\n",
    "            else:\r\n",
    "                start += nums[start]\r\n"
   ],
   "outputs": [],
   "metadata": {}
  },
  {
   "cell_type": "code",
   "execution_count": 65,
   "source": [
    "solution = Solution()\r\n",
    "solution.canJump([2,0])"
   ],
   "outputs": [
    {
     "output_type": "execute_result",
     "data": {
      "text/plain": [
       "False"
      ]
     },
     "metadata": {},
     "execution_count": 65
    }
   ],
   "metadata": {}
  },
  {
   "cell_type": "code",
   "execution_count": null,
   "source": [],
   "outputs": [],
   "metadata": {}
  }
 ],
 "metadata": {
  "orig_nbformat": 4,
  "language_info": {
   "name": "python",
   "version": "3.8.3",
   "mimetype": "text/x-python",
   "codemirror_mode": {
    "name": "ipython",
    "version": 3
   },
   "pygments_lexer": "ipython3",
   "nbconvert_exporter": "python",
   "file_extension": ".py"
  },
  "kernelspec": {
   "name": "python3",
   "display_name": "Python 3.8.3 64-bit ('base': conda)"
  },
  "interpreter": {
   "hash": "318358cca711dfbc264410b226aa7c628b8407a12b94d28436652763d1fa5a27"
  }
 },
 "nbformat": 4,
 "nbformat_minor": 2
}